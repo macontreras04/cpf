{
  "nbformat": 4,
  "nbformat_minor": 0,
  "metadata": {
    "colab": {
      "provenance": [],
      "authorship_tag": "ABX9TyMHyOmBmnqoXLCXJIlKkbaj",
      "include_colab_link": true
    },
    "kernelspec": {
      "name": "python3",
      "display_name": "Python 3"
    },
    "language_info": {
      "name": "python"
    }
  },
  "cells": [
    {
      "cell_type": "markdown",
      "metadata": {
        "id": "view-in-github",
        "colab_type": "text"
      },
      "source": [
        "<a href=\"https://colab.research.google.com/github/macontreras04/cpf/blob/main/Project2_M7.ipynb\" target=\"_parent\"><img src=\"https://colab.research.google.com/assets/colab-badge.svg\" alt=\"Open In Colab\"/></a>"
      ]
    },
    {
      "cell_type": "code",
      "source": [
        "pip install pandas_ta"
      ],
      "metadata": {
        "id": "AI8d_gapL1ht",
        "outputId": "2feb3d75-10c4-4228-ebdf-6bcd82b8e815",
        "colab": {
          "base_uri": "https://localhost:8080/",
          "height": 1000
        }
      },
      "execution_count": 2,
      "outputs": [
        {
          "output_type": "stream",
          "name": "stdout",
          "text": [
            "Collecting pandas_ta\n",
            "  Downloading pandas_ta-0.4.71b0-py3-none-any.whl.metadata (2.3 kB)\n",
            "Collecting numba==0.61.2 (from pandas_ta)\n",
            "  Downloading numba-0.61.2-cp312-cp312-manylinux2014_x86_64.manylinux_2_17_x86_64.whl.metadata (2.8 kB)\n",
            "Collecting numpy>=2.2.6 (from pandas_ta)\n",
            "  Downloading numpy-2.3.4-cp312-cp312-manylinux_2_27_x86_64.manylinux_2_28_x86_64.whl.metadata (62 kB)\n",
            "\u001b[2K     \u001b[90m━━━━━━━━━━━━━━━━━━━━━━━━━━━━━━━━━━━━━━━━\u001b[0m \u001b[32m62.1/62.1 kB\u001b[0m \u001b[31m2.2 MB/s\u001b[0m eta \u001b[36m0:00:00\u001b[0m\n",
            "\u001b[?25hCollecting pandas>=2.3.2 (from pandas_ta)\n",
            "  Downloading pandas-2.3.3-cp312-cp312-manylinux_2_24_x86_64.manylinux_2_28_x86_64.whl.metadata (91 kB)\n",
            "\u001b[2K     \u001b[90m━━━━━━━━━━━━━━━━━━━━━━━━━━━━━━━━━━━━━━━━\u001b[0m \u001b[32m91.2/91.2 kB\u001b[0m \u001b[31m5.7 MB/s\u001b[0m eta \u001b[36m0:00:00\u001b[0m\n",
            "\u001b[?25hRequirement already satisfied: tqdm>=4.67.1 in /usr/local/lib/python3.12/dist-packages (from pandas_ta) (4.67.1)\n",
            "Collecting llvmlite<0.45,>=0.44.0dev0 (from numba==0.61.2->pandas_ta)\n",
            "  Downloading llvmlite-0.44.0-cp312-cp312-manylinux_2_17_x86_64.manylinux2014_x86_64.whl.metadata (5.0 kB)\n",
            "Collecting numpy>=2.2.6 (from pandas_ta)\n",
            "  Downloading numpy-2.2.6-cp312-cp312-manylinux_2_17_x86_64.manylinux2014_x86_64.whl.metadata (62 kB)\n",
            "\u001b[2K     \u001b[90m━━━━━━━━━━━━━━━━━━━━━━━━━━━━━━━━━━━━━━━━\u001b[0m \u001b[32m62.0/62.0 kB\u001b[0m \u001b[31m4.7 MB/s\u001b[0m eta \u001b[36m0:00:00\u001b[0m\n",
            "\u001b[?25hRequirement already satisfied: python-dateutil>=2.8.2 in /usr/local/lib/python3.12/dist-packages (from pandas>=2.3.2->pandas_ta) (2.9.0.post0)\n",
            "Requirement already satisfied: pytz>=2020.1 in /usr/local/lib/python3.12/dist-packages (from pandas>=2.3.2->pandas_ta) (2025.2)\n",
            "Requirement already satisfied: tzdata>=2022.7 in /usr/local/lib/python3.12/dist-packages (from pandas>=2.3.2->pandas_ta) (2025.2)\n",
            "Requirement already satisfied: six>=1.5 in /usr/local/lib/python3.12/dist-packages (from python-dateutil>=2.8.2->pandas>=2.3.2->pandas_ta) (1.17.0)\n",
            "Downloading pandas_ta-0.4.71b0-py3-none-any.whl (240 kB)\n",
            "\u001b[2K   \u001b[90m━━━━━━━━━━━━━━━━━━━━━━━━━━━━━━━━━━━━━━━━\u001b[0m \u001b[32m240.3/240.3 kB\u001b[0m \u001b[31m10.9 MB/s\u001b[0m eta \u001b[36m0:00:00\u001b[0m\n",
            "\u001b[?25hDownloading numba-0.61.2-cp312-cp312-manylinux2014_x86_64.manylinux_2_17_x86_64.whl (3.9 MB)\n",
            "\u001b[2K   \u001b[90m━━━━━━━━━━━━━━━━━━━━━━━━━━━━━━━━━━━━━━━━\u001b[0m \u001b[32m3.9/3.9 MB\u001b[0m \u001b[31m63.4 MB/s\u001b[0m eta \u001b[36m0:00:00\u001b[0m\n",
            "\u001b[?25hDownloading numpy-2.2.6-cp312-cp312-manylinux_2_17_x86_64.manylinux2014_x86_64.whl (16.5 MB)\n",
            "\u001b[2K   \u001b[90m━━━━━━━━━━━━━━━━━━━━━━━━━━━━━━━━━━━━━━━━\u001b[0m \u001b[32m16.5/16.5 MB\u001b[0m \u001b[31m81.1 MB/s\u001b[0m eta \u001b[36m0:00:00\u001b[0m\n",
            "\u001b[?25hDownloading pandas-2.3.3-cp312-cp312-manylinux_2_24_x86_64.manylinux_2_28_x86_64.whl (12.4 MB)\n",
            "\u001b[2K   \u001b[90m━━━━━━━━━━━━━━━━━━━━━━━━━━━━━━━━━━━━━━━━\u001b[0m \u001b[32m12.4/12.4 MB\u001b[0m \u001b[31m114.6 MB/s\u001b[0m eta \u001b[36m0:00:00\u001b[0m\n",
            "\u001b[?25hDownloading llvmlite-0.44.0-cp312-cp312-manylinux_2_17_x86_64.manylinux2014_x86_64.whl (42.4 MB)\n",
            "\u001b[2K   \u001b[90m━━━━━━━━━━━━━━━━━━━━━━━━━━━━━━━━━━━━━━━━\u001b[0m \u001b[32m42.4/42.4 MB\u001b[0m \u001b[31m16.4 MB/s\u001b[0m eta \u001b[36m0:00:00\u001b[0m\n",
            "\u001b[?25hInstalling collected packages: numpy, llvmlite, pandas, numba, pandas_ta\n",
            "  Attempting uninstall: numpy\n",
            "    Found existing installation: numpy 2.0.2\n",
            "    Uninstalling numpy-2.0.2:\n",
            "      Successfully uninstalled numpy-2.0.2\n",
            "  Attempting uninstall: llvmlite\n",
            "    Found existing installation: llvmlite 0.43.0\n",
            "    Uninstalling llvmlite-0.43.0:\n",
            "      Successfully uninstalled llvmlite-0.43.0\n",
            "  Attempting uninstall: pandas\n",
            "    Found existing installation: pandas 2.2.2\n",
            "    Uninstalling pandas-2.2.2:\n",
            "      Successfully uninstalled pandas-2.2.2\n",
            "  Attempting uninstall: numba\n",
            "    Found existing installation: numba 0.60.0\n",
            "    Uninstalling numba-0.60.0:\n",
            "      Successfully uninstalled numba-0.60.0\n",
            "\u001b[31mERROR: pip's dependency resolver does not currently take into account all the packages that are installed. This behaviour is the source of the following dependency conflicts.\n",
            "google-colab 1.0.0 requires pandas==2.2.2, but you have pandas 2.3.3 which is incompatible.\n",
            "dask-cudf-cu12 25.6.0 requires pandas<2.2.4dev0,>=2.0, but you have pandas 2.3.3 which is incompatible.\n",
            "tensorflow 2.19.0 requires numpy<2.2.0,>=1.26.0, but you have numpy 2.2.6 which is incompatible.\n",
            "cudf-cu12 25.6.0 requires pandas<2.2.4dev0,>=2.0, but you have pandas 2.3.3 which is incompatible.\u001b[0m\u001b[31m\n",
            "\u001b[0mSuccessfully installed llvmlite-0.44.0 numba-0.61.2 numpy-2.2.6 pandas-2.3.3 pandas_ta-0.4.71b0\n"
          ]
        },
        {
          "output_type": "display_data",
          "data": {
            "application/vnd.colab-display-data+json": {
              "pip_warning": {
                "packages": [
                  "numpy",
                  "pandas"
                ]
              },
              "id": "9c2421db69794ee0a79aa6868d8c1c64"
            }
          },
          "metadata": {}
        }
      ]
    },
    {
      "cell_type": "code",
      "source": [
        "from google.colab import drive\n",
        "import os\n",
        "\n",
        "\n",
        "import yfinance as yf\n",
        "import pandas as pd\n",
        "import pandas_ta as ta\n",
        "import numpy as np\n",
        "import matplotlib.pyplot as plt\n",
        "from sklearn.model_selection import StratifiedKFold\n",
        "from sklearn.neural_network import MLPClassifier\n",
        "from sklearn.preprocessing import MinMaxScaler\n",
        "from sklearn.metrics import accuracy_score\n",
        "\n",
        "from datetime import date\n",
        "\n",
        "pd.options.display.float_format = \"{:,.6f}\".format"
      ],
      "metadata": {
        "id": "yV8fhbxUrH0X"
      },
      "execution_count": 1,
      "outputs": []
    },
    {
      "cell_type": "code",
      "source": [
        "# Force single-ticker mode and drop multiindex safely\n",
        "data = yf.download(\"EWZ\", start=\"2009-01-01\", end=\"2020-01-01\", group_by='ticker')\n",
        "\n",
        "# If MultiIndex (two-level columns), flatten properly\n",
        "if isinstance(data.columns, pd.MultiIndex):\n",
        "    data.columns = [col[1] if col[1] else col[0] for col in data.columns]\n",
        "\n",
        "# Rename the flattened dataframe to df\n",
        "df = data.copy()\n",
        "\n",
        "# Fix capitalization and spaces (e.g. 'Adj Close' -> 'Adj_Close')\n",
        "df.columns = [str(c).strip().replace(\" \", \"_\").capitalize() for c in df.columns]\n",
        "\n",
        "print(\"✅ Columns after fix:\\n\", df.columns.tolist())\n",
        "print(\"\\nSample data:\")\n",
        "print(df.head())\n"
      ],
      "metadata": {
        "colab": {
          "base_uri": "https://localhost:8080/"
        },
        "id": "HJCjJkI83CR5",
        "outputId": "f61fd393-8ba7-4320-a357-245387863897"
      },
      "execution_count": 2,
      "outputs": [
        {
          "output_type": "stream",
          "name": "stderr",
          "text": [
            "/tmp/ipython-input-331083672.py:2: FutureWarning: YF.download() has changed argument auto_adjust default to True\n",
            "  data = yf.download(\"EWZ\", start=\"2009-01-01\", end=\"2020-01-01\", group_by='ticker')\n",
            "[*********************100%***********************]  1 of 1 completed"
          ]
        },
        {
          "output_type": "stream",
          "name": "stdout",
          "text": [
            "✅ Columns after fix:\n",
            " ['Open', 'High', 'Low', 'Close', 'Volume']\n",
            "\n",
            "Sample data:\n",
            "                Open      High       Low     Close    Volume\n",
            "Date                                                        \n",
            "2009-01-02 17.255397 18.517988 17.186078 18.171394   9887600\n",
            "2009-01-05 18.067413 19.429030 18.017899 18.854675  20790600\n",
            "2009-01-06 19.691453 20.196490 19.369616 19.929117  21317800\n",
            "2009-01-07 19.300301 19.334960 18.418964 18.745752  18219400\n",
            "2009-01-08 18.552651 19.003222 18.250619 18.899242  16609800\n"
          ]
        },
        {
          "output_type": "stream",
          "name": "stderr",
          "text": [
            "\n"
          ]
        }
      ]
    },
    {
      "cell_type": "code",
      "source": [
        "# STEP 2: Compute Technical Indicators\n",
        "# ------------------------------------------------------------\n",
        "\n",
        "# RSI\n",
        "df[\"RSI_14\"] = ta.rsi(df[\"Close\"], length=14)\n",
        "\n",
        "# Bollinger Bands (%B)\n",
        "bbands = ta.bbands(df[\"Close\"], length=20)\n",
        "\n",
        "# If bbands was returned successfully, merge it\n",
        "if bbands is not None and isinstance(bbands, pd.DataFrame):\n",
        "    df = pd.concat([df, bbands], axis=1)\n",
        "    # Find and rename %B column\n",
        "    bbp_candidates = [c for c in df.columns if \"bbp\" in c.lower()]\n",
        "    if bbp_candidates:\n",
        "        df.rename(columns={bbp_candidates[0]: \"BBP\"}, inplace=True)\n",
        "    else:\n",
        "        raise KeyError(\"❌ Could not find BBP column after merging Bollinger Bands.\")\n",
        "else:\n",
        "    raise RuntimeError(\"❌ ta.bbands() did not return a DataFrame — check pandas_ta version.\")\n",
        "# Balance of Power (manual)\n",
        "df[\"BOP\"] = (df[\"Close\"] - df[\"Open\"]) / (df[\"High\"] - df[\"Low\"])\n",
        "df[\"BOP\"].replace([np.inf, -np.inf], np.nan, inplace=True)\n",
        "df[\"BOP\"].fillna(0, inplace=True)\n",
        "\n",
        "# Williams %R\n",
        "df[\"WILLR\"] = ta.willr(df[\"High\"], df[\"Low\"], df[\"Close\"], length=14)\n",
        "\n",
        "# Simple Moving Average\n",
        "df[\"SMA_20\"] = ta.sma(df[\"Close\"], length=20)\n",
        "\n",
        "# Drop NaN rows generated by indicators\n",
        "df = df.dropna()\n",
        "\n",
        "print(\"Indicators added:\", [c for c in df.columns if c not in ['Open','High','Low','Close','Adj close','Volume']])"
      ],
      "metadata": {
        "colab": {
          "base_uri": "https://localhost:8080/"
        },
        "id": "z0fZN8jq3CUf",
        "outputId": "4ef60bf2-3240-4f4e-825a-ea73ff40a30c"
      },
      "execution_count": 3,
      "outputs": [
        {
          "output_type": "stream",
          "name": "stdout",
          "text": [
            "Indicators added: ['RSI_14', 'BBL_20_2.0_2.0', 'BBM_20_2.0_2.0', 'BBU_20_2.0_2.0', 'BBB_20_2.0_2.0', 'BBP', 'BOP', 'WILLR', 'SMA_20']\n"
          ]
        },
        {
          "output_type": "stream",
          "name": "stderr",
          "text": [
            "/tmp/ipython-input-3773521967.py:23: ChainedAssignmentError: A value is trying to be set on a copy of a DataFrame or Series through chained assignment using an inplace method.\n",
            "When using the Copy-on-Write mode, such inplace method never works to update the original DataFrame or Series, because the intermediate object on which we are setting values always behaves as a copy.\n",
            "\n",
            "For example, when doing 'df[col].method(value, inplace=True)', try using 'df.method({col: value}, inplace=True)' instead, to perform the operation inplace on the original object.\n",
            "\n",
            "\n",
            "  df[\"BOP\"].replace([np.inf, -np.inf], np.nan, inplace=True)\n",
            "/tmp/ipython-input-3773521967.py:24: ChainedAssignmentError: A value is trying to be set on a copy of a DataFrame or Series through chained assignment using an inplace method.\n",
            "When using the Copy-on-Write mode, such inplace method never works to update the original DataFrame or Series, because the intermediate object on which we are setting values always behaves as a copy.\n",
            "\n",
            "For example, when doing 'df[col].method(value, inplace=True)', try using 'df.method({col: value}, inplace=True)' instead, to perform the operation inplace on the original object.\n",
            "\n",
            "\n",
            "  df[\"BOP\"].fillna(0, inplace=True)\n"
          ]
        }
      ]
    },
    {
      "cell_type": "code",
      "source": [
        "# ============================================================\n",
        "# STEP 3: Define Target (Next-day direction)\n",
        "# ============================================================\n",
        "df[\"Target\"] = np.where(df[\"Open\"].shift(-1) > df[\"Open\"], 1, 0)\n",
        "df = df.dropna()\n",
        "print(\"\\n✅ Target variable added. Example values:\", df[\"Target\"].unique())\n"
      ],
      "metadata": {
        "colab": {
          "base_uri": "https://localhost:8080/"
        },
        "id": "X6Q1Ph9N3CW0",
        "outputId": "1a0934aa-6e3b-43fa-abe2-465d44713001"
      },
      "execution_count": 4,
      "outputs": [
        {
          "output_type": "stream",
          "name": "stdout",
          "text": [
            "\n",
            "✅ Target variable added. Example values: [0 1]\n"
          ]
        }
      ]
    },
    {
      "cell_type": "code",
      "source": [
        "# ============================================================\n",
        "# STEP 4: Feature Selection (Correlation)\n",
        "# ============================================================\n",
        "features = [\"RSI_14\", \"BBP\", \"BOP\", \"WILLR\", \"SMA_20\"]\n",
        "correlations = df[features + [\"Target\"]].corr()[\"Target\"].abs().sort_values(ascending=False)\n",
        "print(\"\\n📊 Feature correlations with Target:\")\n",
        "print(correlations)\n",
        "\n",
        "# Select the top 3 most correlated features\n",
        "selected_features = correlations.index[1:4].tolist()\n",
        "print(\"\\n✅ Selected features:\", selected_features)"
      ],
      "metadata": {
        "colab": {
          "base_uri": "https://localhost:8080/"
        },
        "id": "2lvMQ_7o3CZR",
        "outputId": "4dd8661f-cabe-45d2-c85c-1f01aac1392b"
      },
      "execution_count": 5,
      "outputs": [
        {
          "output_type": "stream",
          "name": "stdout",
          "text": [
            "\n",
            "📊 Feature correlations with Target:\n",
            "Target   1.000000\n",
            "BOP      0.610267\n",
            "WILLR    0.234433\n",
            "BBP      0.210665\n",
            "RSI_14   0.164017\n",
            "SMA_20   0.029947\n",
            "Name: Target, dtype: float64\n",
            "\n",
            "✅ Selected features: ['BOP', 'WILLR', 'BBP']\n"
          ]
        }
      ]
    },
    {
      "cell_type": "code",
      "source": [
        "from sklearn.preprocessing import MinMaxScaler\n",
        "\n",
        "# Features and target\n",
        "X_full = df[features]\n",
        "X_selected = df[selected_features]\n",
        "y = df[\"Target\"]\n",
        "\n",
        "# Normalize\n",
        "scaler = MinMaxScaler()\n",
        "X_full_scaled = scaler.fit_transform(X_full)\n",
        "X_sel_scaled = scaler.fit_transform(X_selected)\n",
        "\n",
        "print(\"✅ Data scaled and ready for modeling.\")\n",
        "print(f\"Full features shape: {X_full_scaled.shape}\")\n",
        "print(f\"Selected features shape: {X_sel_scaled.shape}\")\n"
      ],
      "metadata": {
        "colab": {
          "base_uri": "https://localhost:8080/"
        },
        "id": "XoRqsfh83Cb_",
        "outputId": "6ba6e9a6-099c-4f0d-f919-c3180611c2b1"
      },
      "execution_count": 6,
      "outputs": [
        {
          "output_type": "stream",
          "name": "stdout",
          "text": [
            "✅ Data scaled and ready for modeling.\n",
            "Full features shape: (2749, 5)\n",
            "Selected features shape: (2749, 3)\n"
          ]
        }
      ]
    },
    {
      "cell_type": "code",
      "source": [
        "from sklearn.model_selection import StratifiedKFold\n",
        "from sklearn.neural_network import MLPClassifier\n",
        "from sklearn.metrics import accuracy_score\n",
        "import numpy as np\n",
        "\n",
        "mlp = MLPClassifier(\n",
        "    hidden_layer_sizes=(len(selected_features)+1)//2,  # small network\n",
        "    activation=\"logistic\",\n",
        "    solver=\"lbfgs\",\n",
        "    learning_rate_init=0.03,\n",
        "    max_iter=5000,\n",
        "    random_state=42\n",
        ")\n",
        "\n",
        "kf = StratifiedKFold(n_splits=10, shuffle=True, random_state=42)\n",
        "\n",
        "def cross_val_accuracy(X, y):\n",
        "    scores = []\n",
        "    for train_idx, test_idx in kf.split(X, y):\n",
        "        X_train, X_test = X[train_idx], X[test_idx]\n",
        "        y_train, y_test = y.iloc[train_idx], y.iloc[test_idx]\n",
        "        mlp.fit(X_train, y_train)\n",
        "        y_pred = mlp.predict(X_test)\n",
        "        scores.append(accuracy_score(y_test, y_pred))\n",
        "    return np.mean(scores)\n",
        "\n",
        "# Cross-validation\n",
        "acc_full = cross_val_accuracy(X_full_scaled, y)\n",
        "acc_sel = cross_val_accuracy(X_sel_scaled, y)\n",
        "\n",
        "print(f\"\\n🎯 Full Feature Accuracy: {acc_full*100:.2f}%\")\n",
        "print(f\"🎯 Selected Feature Accuracy: {acc_sel*100:.2f}%\")\n"
      ],
      "metadata": {
        "colab": {
          "base_uri": "https://localhost:8080/"
        },
        "id": "zMU0lLmn3Cd5",
        "outputId": "7a27f4d5-0908-4d63-b914-7b36735008bb"
      },
      "execution_count": 7,
      "outputs": [
        {
          "output_type": "stream",
          "name": "stdout",
          "text": [
            "\n",
            "🎯 Full Feature Accuracy: 77.19%\n",
            "🎯 Selected Feature Accuracy: 77.08%\n"
          ]
        }
      ]
    },
    {
      "cell_type": "code",
      "source": [
        "import matplotlib.pyplot as plt\n",
        "\n",
        "plt.figure(figsize=(6,5))\n",
        "plt.bar([\"Full Set\", \"Selected Features\"],\n",
        "        [acc_full*100, acc_sel*100],\n",
        "        color=[\"gray\", \"skyblue\"])\n",
        "plt.title(\"EWZ ETF - Accuracy Comparison (10-Fold Cross-Validation)\")\n",
        "plt.ylabel(\"Accuracy (%)\")\n",
        "plt.show()\n"
      ],
      "metadata": {
        "colab": {
          "base_uri": "https://localhost:8080/",
          "height": 468
        },
        "id": "nRdTgEJg3CgX",
        "outputId": "40d6c963-edf4-4a66-84d7-5681f3eddf59"
      },
      "execution_count": 8,
      "outputs": [
        {
          "output_type": "display_data",
          "data": {
            "text/plain": [
              "<Figure size 600x500 with 1 Axes>"
            ],
            "image/png": "[encoded data removed]"
          },
          "metadata": {}
        }
      ]
    },
    {
      "cell_type": "code",
      "source": [
        "print(\"\\n=== Summary ===\")\n",
        "print(f\"Samples used: {len(df)}\")\n",
        "print(f\"Selected indicators: {selected_features}\")\n",
        "print(f\"Full accuracy: {acc_full*100:.2f}%\")\n",
        "print(f\"Reduced accuracy: {acc_sel*100:.2f}%\")\n",
        "improvement = acc_sel - acc_full\n",
        "print(f\"Accuracy difference: {improvement:+.4f}\")\n",
        "\n",
        "if improvement > 0:\n",
        "    print(\"✅ Using selected features improved accuracy and reduced model complexity.\")\n",
        "else:\n",
        "    print(\"⚠️ Full feature set performed slightly better; try more data or indicators.\")\n"
      ],
      "metadata": {
        "colab": {
          "base_uri": "https://localhost:8080/"
        },
        "id": "QaFiiiNp3Ci4",
        "outputId": "c3170b30-c52e-4a5c-9366-277b76241ff5"
      },
      "execution_count": 9,
      "outputs": [
        {
          "output_type": "stream",
          "name": "stdout",
          "text": [
            "\n",
            "=== Summary ===\n",
            "Samples used: 2749\n",
            "Selected indicators: ['BOP', 'WILLR', 'BBP']\n",
            "Full accuracy: 77.19%\n",
            "Reduced accuracy: 77.08%\n",
            "Accuracy difference: -0.0011\n",
            "⚠️ Full feature set performed slightly better; try more data or indicators.\n"
          ]
        }
      ]
    },
    {
      "cell_type": "code",
      "source": [
        "# ============================================================\n",
        "# Step 9 – Replicate Tables 3 & 4 and Accuracy Gain Chart\n",
        "# ============================================================\n",
        "import pandas as pd\n",
        "import numpy as np\n",
        "import matplotlib.pyplot as plt\n",
        "from sklearn.model_selection import StratifiedKFold\n",
        "from sklearn.neural_network import MLPClassifier\n",
        "from sklearn.preprocessing import MinMaxScaler\n",
        "from sklearn.metrics import accuracy_score\n",
        "\n",
        "# ------------------------------------------------------------\n",
        "# 1. Reuse your feature ranking from Step 4\n",
        "# ------------------------------------------------------------\n",
        "ranked_features = correlations.index[:-1].tolist()  # remove 'Target' itself if included\n",
        "\n",
        "# ------------------------------------------------------------\n",
        "# 2. Define CV and model setup\n",
        "# ------------------------------------------------------------\n",
        "kf = StratifiedKFold(n_splits=10, shuffle=True, random_state=42)\n",
        "mlp = MLPClassifier(\n",
        "    activation=\"logistic\",\n",
        "    solver=\"lbfgs\",\n",
        "    learning_rate_init=0.03,\n",
        "    max_iter=5000,\n",
        "    random_state=42\n",
        ")\n",
        "\n",
        "# ------------------------------------------------------------\n",
        "# 3. Compute accuracy for 0–len(features)\n",
        "# ------------------------------------------------------------\n",
        "n_features = list(range(len(ranked_features)+1))\n",
        "median_acc = []\n",
        "num_selected = []\n",
        "\n",
        "scaler = MinMaxScaler()\n",
        "\n",
        "for n in n_features:\n",
        "    if n == 0:\n",
        "        # Baseline: model trained on no technical indicator (use only past Open as dummy)\n",
        "        X = df[[\"Open\"]].values\n",
        "    else:\n",
        "        X = df[ranked_features[:n]].values\n",
        "\n",
        "    X_scaled = scaler.fit_transform(X)\n",
        "    y = df[\"Target\"].values\n",
        "\n",
        "    # Cross-validation\n",
        "    scores = []\n",
        "    for train_idx, test_idx in kf.split(X_scaled, y):\n",
        "        mlp.fit(X_scaled[train_idx], y[train_idx])\n",
        "        y_pred = mlp.predict(X_scaled[test_idx])\n",
        "        scores.append(accuracy_score(y[test_idx], y_pred))\n",
        "\n",
        "    median_acc.append(np.median(scores) * 100)  # % scale\n",
        "    num_selected.append(n)\n",
        "\n",
        "# ------------------------------------------------------------\n",
        "# 4. Create DataFrames like Tables 3 & 4\n",
        "# ------------------------------------------------------------\n",
        "table3 = pd.DataFrame({\n",
        "    \"Selected (n)\": num_selected,\n",
        "    \"Count\": [len(df)]*len(num_selected)\n",
        "})\n",
        "\n",
        "table4 = pd.DataFrame({\n",
        "    \"Selected (n)\": num_selected,\n",
        "    \"Median Accuracy (%)\": median_acc\n",
        "})\n",
        "\n",
        "# ------------------------------------------------------------\n",
        "# 5. Plot Accuracy Gain\n",
        "# ------------------------------------------------------------\n",
        "gain = [a - median_acc[0] for a in median_acc]\n",
        "\n",
        "plt.figure(figsize=(8,5))\n",
        "plt.plot(num_selected, gain, marker='o', color='steelblue')\n",
        "plt.title(\"Accuracy Gain (%) — EWZ ETF\")\n",
        "plt.xlabel(\"Number of Selected Features (n)\")\n",
        "plt.ylabel(\"Accuracy Gain (%) vs n=0 baseline\")\n",
        "plt.grid(True)\n",
        "plt.show()\n",
        "\n",
        "# ------------------------------------------------------------\n",
        "# 6. Display Tables\n",
        "# ------------------------------------------------------------\n",
        "print(\"\\n=== Table 3 — Number of features selected (EWZ) ===\")\n",
        "print(table3.to_string(index=False))\n",
        "\n",
        "print(\"\\n=== Table 4 — Median accuracy after cross-validation (EWZ) ===\")\n",
        "print(table4.to_string(index=False))\n",
        "\n",
        "# Optional: accuracy gain table\n",
        "gain_table = pd.DataFrame({\n",
        "    \"n\": num_selected,\n",
        "    \"Accuracy Gain (%)\": np.round(gain,2)\n",
        "})\n",
        "print(\"\\n=== Accuracy Gain (%) ===\")\n",
        "print(gain_table.to_string(index=False))\n"
      ],
      "metadata": {
        "colab": {
          "base_uri": "https://localhost:8080/",
          "height": 956
        },
        "id": "mQZPqMRp3ClX",
        "outputId": "c2ba7d23-75d2-4ca7-8969-ab4d4bc83916"
      },
      "execution_count": 10,
      "outputs": [
        {
          "output_type": "display_data",
          "data": {
            "text/plain": [
              "<Figure size 800x500 with 1 Axes>"
            ],
            "image/png": "[encoded data removed]"
          },
          "metadata": {}
        },
        {
          "output_type": "stream",
          "name": "stdout",
          "text": [
            "\n",
            "=== Table 3 — Number of features selected (EWZ) ===\n",
            " Selected (n)  Count\n",
            "            0   2749\n",
            "            1   2749\n",
            "            2   2749\n",
            "            3   2749\n",
            "            4   2749\n",
            "            5   2749\n",
            "\n",
            "=== Table 4 — Median accuracy after cross-validation (EWZ) ===\n",
            " Selected (n)  Median Accuracy (%)\n",
            "            0            51.636364\n",
            "            1           100.000000\n",
            "            2           100.000000\n",
            "            3           100.000000\n",
            "            4           100.000000\n",
            "            5           100.000000\n",
            "\n",
            "=== Accuracy Gain (%) ===\n",
            " n  Accuracy Gain (%)\n",
            " 0           0.000000\n",
            " 1          48.360000\n",
            " 2          48.360000\n",
            " 3          48.360000\n",
            " 4          48.360000\n",
            " 5          48.360000\n"
          ]
        }
      ]
    },
    {
      "cell_type": "markdown",
      "source": [
        "**5) Python code to import and structure into useful data structures**"
      ],
      "metadata": {
        "id": "McpqRwVSEmJQ"
      }
    },
    {
      "cell_type": "code",
      "source": [
        "pip install newsapi-python pandas nltk"
      ],
      "metadata": {
        "id": "CD9cvIdL3CsX",
        "colab": {
          "base_uri": "https://localhost:8080/"
        },
        "outputId": "58efeb08-7874-4418-ede8-3a4af19f4eff"
      },
      "execution_count": 11,
      "outputs": [
        {
          "output_type": "stream",
          "name": "stdout",
          "text": [
            "Collecting newsapi-python\n",
            "  Downloading newsapi_python-0.2.7-py2.py3-none-any.whl.metadata (1.2 kB)\n",
            "Requirement already satisfied: pandas in /usr/local/lib/python3.12/dist-packages (2.3.3)\n",
            "Requirement already satisfied: nltk in /usr/local/lib/python3.12/dist-packages (3.9.1)\n",
            "Requirement already satisfied: requests<3.0.0 in /usr/local/lib/python3.12/dist-packages (from newsapi-python) (2.32.4)\n",
            "Requirement already satisfied: numpy>=1.26.0 in /usr/local/lib/python3.12/dist-packages (from pandas) (2.2.6)\n",
            "Requirement already satisfied: python-dateutil>=2.8.2 in /usr/local/lib/python3.12/dist-packages (from pandas) (2.9.0.post0)\n",
            "Requirement already satisfied: pytz>=2020.1 in /usr/local/lib/python3.12/dist-packages (from pandas) (2025.2)\n",
            "Requirement already satisfied: tzdata>=2022.7 in /usr/local/lib/python3.12/dist-packages (from pandas) (2025.2)\n",
            "Requirement already satisfied: click in /usr/local/lib/python3.12/dist-packages (from nltk) (8.3.0)\n",
            "Requirement already satisfied: joblib in /usr/local/lib/python3.12/dist-packages (from nltk) (1.5.2)\n",
            "Requirement already satisfied: regex>=2021.8.3 in /usr/local/lib/python3.12/dist-packages (from nltk) (2024.11.6)\n",
            "Requirement already satisfied: tqdm in /usr/local/lib/python3.12/dist-packages (from nltk) (4.67.1)\n",
            "Requirement already satisfied: six>=1.5 in /usr/local/lib/python3.12/dist-packages (from python-dateutil>=2.8.2->pandas) (1.17.0)\n",
            "Requirement already satisfied: charset_normalizer<4,>=2 in /usr/local/lib/python3.12/dist-packages (from requests<3.0.0->newsapi-python) (3.4.4)\n",
            "Requirement already satisfied: idna<4,>=2.5 in /usr/local/lib/python3.12/dist-packages (from requests<3.0.0->newsapi-python) (3.11)\n",
            "Requirement already satisfied: urllib3<3,>=1.21.1 in /usr/local/lib/python3.12/dist-packages (from requests<3.0.0->newsapi-python) (2.5.0)\n",
            "Requirement already satisfied: certifi>=2017.4.17 in /usr/local/lib/python3.12/dist-packages (from requests<3.0.0->newsapi-python) (2025.10.5)\n",
            "Downloading newsapi_python-0.2.7-py2.py3-none-any.whl (7.9 kB)\n",
            "Installing collected packages: newsapi-python\n",
            "Successfully installed newsapi-python-0.2.7\n"
          ]
        }
      ]
    },
    {
      "cell_type": "markdown",
      "source": [
        "Python Connection and Data Import\n",
        "\n",
        "Replace \"YOUR_API_KEY\" with your actual NewsAPI key.\n",
        "This script will fetch the latest financial or stock market headlines."
      ],
      "metadata": {
        "id": "8399b75PEfiY"
      }
    },
    {
      "cell_type": "code",
      "source": [
        "from newsapi import NewsApiClient\n",
        "import pandas as pd\n",
        "\n",
        "# Initialize the client\n",
        "newsapi = NewsApiClient(api_key=\"41daf7e9e3104ff78c2eb9e49fef9154\" )\n",
        "\n",
        "# Fetch recent news related to finance or markets\n",
        "articles = newsapi.get_everything(\n",
        "    q=\"stock market OR finance OR investing\",\n",
        "    language=\"en\",\n",
        "    sort_by=\"publishedAt\",\n",
        "    page_size=50\n",
        ")\n",
        "\n",
        "# Parse results into a DataFrame\n",
        "data = []\n",
        "for article in articles[\"articles\"]:\n",
        "    data.append({\n",
        "        \"source\": article[\"source\"][\"name\"],\n",
        "        \"author\": article[\"author\"],\n",
        "        \"title\": article[\"title\"],\n",
        "        \"description\": article[\"description\"],\n",
        "        \"url\": article[\"url\"],\n",
        "        \"publishedAt\": article[\"publishedAt\"]\n",
        "    })\n",
        "\n",
        "df = pd.DataFrame(data)\n",
        "print(df.head())\n"
      ],
      "metadata": {
        "id": "UFaZsI_G3CvK",
        "colab": {
          "base_uri": "https://localhost:8080/"
        },
        "outputId": "0b48ae49-9d7b-4364-e3c5-3f58f9d92f0d"
      },
      "execution_count": 12,
      "outputs": [
        {
          "output_type": "stream",
          "name": "stdout",
          "text": [
            "                  source                                     author  \\\n",
            "0            CryptoSlate                             Jeremy Boynton   \n",
            "1             Biztoc.com                          finance.yahoo.com   \n",
            "2             Biztoc.com                           seekingalpha.com   \n",
            "3  Lifeofanarchitect.com  Bob Borson, Bob Borson and Andrew Hawkins   \n",
            "4             Biztoc.com                              bloomberg.com   \n",
            "\n",
            "                                               title  \\\n",
            "0  The SEC’s new crypto rules are a win for free ...   \n",
            "1  Why I Continue to Buy More of This Amazing Hig...   \n",
            "2  Important Warning For PDI: This 13%+ Yield Is ...   \n",
            "3                          Ep 187: Objects of Design   \n",
            "4  Treasuries Rally Drives Home Haven Role as Cre...   \n",
            "\n",
            "                                         description  \\\n",
            "0  The following is a guest post and opinion from...   \n",
            "1  Why I Continue to Buy More of This Amazing Hig...   \n",
            "2                                                      \n",
            "3  Architects explore the stories behind objects ...   \n",
            "4                                                      \n",
            "\n",
            "                                                 url           publishedAt  \n",
            "0  https://cryptoslate.com/the-secs-new-crypto-ru...  2025-10-19T19:46:36Z  \n",
            "1              https://biztoc.com/x/8bf85689e8efbca0  2025-10-19T19:39:40Z  \n",
            "2              https://biztoc.com/x/3b39744c535efd94  2025-10-19T19:39:10Z  \n",
            "3  https://www.lifeofanarchitect.com/ep-187-objec...  2025-10-19T19:30:56Z  \n",
            "4              https://biztoc.com/x/600e459834a2f3a4  2025-10-19T19:17:18Z  \n"
          ]
        }
      ]
    },
    {
      "cell_type": "markdown",
      "source": [
        "**Add Sentiment Analysis (VADER)**\n",
        "\n",
        "We’ll use the VADER analyzer from nltk (works well for headlines and tweets)."
      ],
      "metadata": {
        "id": "fNl00XNiEVN0"
      }
    },
    {
      "cell_type": "code",
      "source": [
        "from nltk.sentiment.vader import SentimentIntensityAnalyzer\n",
        "import nltk\n",
        "nltk.download('vader_lexicon')\n",
        "\n",
        "sia = SentimentIntensityAnalyzer()\n",
        "\n",
        "df[\"sentiment\"] = df[\"title\"].apply(lambda x: sia.polarity_scores(str(x))[\"compound\"])\n",
        "print(df[[\"title\", \"sentiment\"]].head())\n"
      ],
      "metadata": {
        "id": "wJewpoA33Cxq",
        "colab": {
          "base_uri": "https://localhost:8080/"
        },
        "outputId": "9965fab8-8ff0-479e-a25a-cf6609b220bc"
      },
      "execution_count": 13,
      "outputs": [
        {
          "output_type": "stream",
          "name": "stdout",
          "text": [
            "                                               title  sentiment\n",
            "0  The SEC’s new crypto rules are a win for free ...   0.796400\n",
            "1  Why I Continue to Buy More of This Amazing Hig...   0.769300\n",
            "2  Important Warning For PDI: This 13%+ Yield Is ...  -0.340000\n",
            "3                          Ep 187: Objects of Design  -0.624900\n",
            "4  Treasuries Rally Drives Home Haven Role as Cre...   0.177900\n"
          ]
        },
        {
          "output_type": "stream",
          "name": "stderr",
          "text": [
            "[nltk_data] Downloading package vader_lexicon to /root/nltk_data...\n"
          ]
        }
      ]
    },
    {
      "cell_type": "markdown",
      "source": [
        "Interpretation:\n",
        "\n",
        "> 0.05 → positive\n",
        "\n",
        "< -0.05 → negative\n",
        "\n",
        "else → neutral\n",
        "\n",
        "You can classify them:"
      ],
      "metadata": {
        "id": "YI3wUU8sHroK"
      }
    },
    {
      "cell_type": "code",
      "source": [
        "def classify_sentiment(score):\n",
        "    if score > 0.05:\n",
        "        return \"positive\"\n",
        "    elif score < -0.05:\n",
        "        return \"negative\"\n",
        "    else:\n",
        "        return \"neutral\"\n",
        "\n",
        "df[\"label\"] = df[\"sentiment\"].apply(classify_sentiment)\n"
      ],
      "metadata": {
        "id": "fVHW_xKx3Cz8"
      },
      "execution_count": 14,
      "outputs": []
    },
    {
      "cell_type": "markdown",
      "source": [
        "**6) Exploratory Aata Analysis of sample data**"
      ],
      "metadata": {
        "id": "VblX76bxC2Qu"
      }
    },
    {
      "cell_type": "code",
      "source": [
        "import matplotlib.pyplot as plt\n",
        "\n",
        "df[\"sentiment\"].plot(kind=\"hist\", bins=20, title=\"Sentiment Distribution\", figsize=(8,4))\n",
        "plt.xlabel(\"Sentiment Score (-1 = negative, +1 = positive)\")\n",
        "plt.show()\n"
      ],
      "metadata": {
        "colab": {
          "base_uri": "https://localhost:8080/",
          "height": 410
        },
        "id": "AMrHTy2HCs3g",
        "outputId": "5c5455fd-a29b-4962-b9eb-6dac9b8d2907"
      },
      "execution_count": 15,
      "outputs": [
        {
          "output_type": "display_data",
          "data": {
            "text/plain": [
              "<Figure size 800x400 with 1 Axes>"
            ],
            "image/png": "[encoded data removed]"
          },
          "metadata": {}
        }
      ]
    },
    {
      "cell_type": "markdown",
      "source": [
        "Articles per sentiment label"
      ],
      "metadata": {
        "id": "0wJGsR8CC9Uj"
      }
    },
    {
      "cell_type": "code",
      "source": [
        "df[\"label\"].value_counts().plot(kind=\"bar\", title=\"Sentiment Categories\", figsize=(6,4))\n",
        "plt.show()"
      ],
      "metadata": {
        "colab": {
          "base_uri": "https://localhost:8080/",
          "height": 457
        },
        "id": "TtFucqqsCtFU",
        "outputId": "5b717ac9-1e49-4e3e-a26d-4dcb3722efd8"
      },
      "execution_count": 16,
      "outputs": [
        {
          "output_type": "display_data",
          "data": {
            "text/plain": [
              "<Figure size 600x400 with 1 Axes>"
            ],
            "image/png": "[encoded data removed]"
          },
          "metadata": {}
        }
      ]
    },
    {
      "cell_type": "markdown",
      "source": [
        "Top 10 most positive / negative headlines"
      ],
      "metadata": {
        "id": "-G8xUAW3DB-t"
      }
    },
    {
      "cell_type": "code",
      "source": [
        "print(\"Most Positive:\")\n",
        "print(df.nlargest(10, \"sentiment\")[[\"title\", \"sentiment\"]])\n",
        "\n",
        "print(\"\\nMost Negative:\")\n",
        "print(df.nsmallest(10, \"sentiment\")[[\"title\", \"sentiment\"]])"
      ],
      "metadata": {
        "colab": {
          "base_uri": "https://localhost:8080/"
        },
        "id": "HOW4ao8yCtKM",
        "outputId": "799e41d0-b3cc-4908-d587-f9da6ea744aa"
      },
      "execution_count": 17,
      "outputs": [
        {
          "output_type": "stream",
          "name": "stdout",
          "text": [
            "Most Positive:\n",
            "                                                title  sentiment\n",
            "42  ROSEN, A RANKED AND LEADING LAW FIRM, Encourag...   0.807400\n",
            "0   The SEC’s new crypto rules are a win for free ...   0.796400\n",
            "1   Why I Continue to Buy More of This Amazing Hig...   0.769300\n",
            "22  Man United stun Liverpool to end nine-year wai...   0.765000\n",
            "29  Opposition Candidate Wins Northern Cyprus Pres...   0.571900\n",
            "7   Orange (ENXTPA:ORA): Assessing Valuation After...   0.557400\n",
            "18  Does Warren Buffett Know Something Wall Street...   0.557400\n",
            "6   A Fresh Look at Siemens (XTRA:SIE) Valuation F...   0.542300\n",
            "16  Brown short ribs in the oven to skip the stove...   0.509500\n",
            "33  Cameco Stock Is Having a Good Year so Far. Can...   0.440400\n",
            "\n",
            "Most Negative:\n",
            "                                                title  sentiment\n",
            "11  Horror sequel ‘Black Phone 2’ dials up a No. 1...  -0.709600\n",
            "12  PepsiCo is fixing what broke, but shoppers may...  -0.653300\n",
            "3                           Ep 187: Objects of Design  -0.624900\n",
            "13  Investors have reasons to be nervous about mar...  -0.542300\n",
            "23  FinMin steps in PSBs asked to tackle employee ...  -0.421500\n",
            "8   Glass Half-Full Economy Has Rarely Looked So Good  -0.386500\n",
            "2   Important Warning For PDI: This 13%+ Yield Is ...  -0.340000\n",
            "14  Kast’s Election Campaign Vows $21 Billion Spen...  -0.273200\n",
            "25  This might be the coolest Star Wars holiday co...  -0.102700\n",
            "5   Veteran analyst resets Big Tech ‘buy’ list for...   0.000000\n"
          ]
        }
      ]
    }
  ]
}