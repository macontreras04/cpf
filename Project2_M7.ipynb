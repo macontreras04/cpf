{
  "nbformat": 4,
  "nbformat_minor": 0,
  "metadata": {
    "colab": {
      "provenance": [],
      "authorship_tag": "ABX9TyMfpf8bXRz/3asosi+yN9vJ",
      "include_colab_link": true
    },
    "kernelspec": {
      "name": "python3",
      "display_name": "Python 3"
    },
    "language_info": {
      "name": "python"
    }
  },
  "cells": [
    {
      "cell_type": "markdown",
      "metadata": {
        "id": "view-in-github",
        "colab_type": "text"
      },
      "source": [
        "<a href=\"https://colab.research.google.com/github/macontreras04/cpf/blob/main/Project2_M7.ipynb\" target=\"_parent\"><img src=\"https://colab.research.google.com/assets/colab-badge.svg\" alt=\"Open In Colab\"/></a>"
      ]
    },
    {
      "cell_type": "code",
      "source": [
        "from google.colab import drive\n",
        "import os\n",
        "\n",
        "\n",
        "import yfinance as yf\n",
        "import pandas as pd\n",
        "import pandas_ta as ta\n",
        "import numpy as np\n",
        "import matplotlib.pyplot as plt\n",
        "from sklearn.model_selection import StratifiedKFold\n",
        "from sklearn.neural_network import MLPClassifier\n",
        "from sklearn.preprocessing import MinMaxScaler\n",
        "from sklearn.metrics import accuracy_score\n",
        "\n",
        "from datetime import date\n",
        "\n",
        "pd.options.display.float_format = \"{:,.6f}\".format"
      ],
      "metadata": {
        "id": "yV8fhbxUrH0X"
      },
      "execution_count": null,
      "outputs": []
    },
    {
      "cell_type": "code",
      "source": [
        "\n",
        "# Force single-ticker mode and drop multiindex safely\n",
        "data = yf.download(\"EWZ\", start=\"2009-01-01\", end=\"2020-01-01\", group_by='ticker')\n",
        "\n",
        "# If MultiIndex (two-level columns), flatten properly\n",
        "if isinstance(data.columns, pd.MultiIndex):\n",
        "    data.columns = [col[1] if col[1] else col[0] for col in data.columns]\n",
        "\n",
        "# Rename the flattened dataframe to df\n",
        "df = data.copy()\n",
        "\n",
        "# Fix capitalization and spaces (e.g. 'Adj Close' -> 'Adj_Close')\n",
        "df.columns = [str(c).strip().replace(\" \", \"_\").capitalize() for c in df.columns]\n",
        "\n",
        "print(\"✅ Columns after fix:\\n\", df.columns.tolist())\n",
        "print(\"\\nSample data:\")\n",
        "print(df.head())\n"
      ],
      "metadata": {
        "colab": {
          "base_uri": "https://localhost:8080/"
        },
        "id": "HJCjJkI83CR5",
        "outputId": "85eace88-26cc-464d-86a4-a3b1e9f6bc67"
      },
      "execution_count": null,
      "outputs": [
        {
          "output_type": "stream",
          "name": "stderr",
          "text": [
            "/tmp/ipython-input-818171798.py:5: FutureWarning: YF.download() has changed argument auto_adjust default to True\n",
            "  data = yf.download(\"EWZ\", start=\"2009-01-01\", end=\"2020-01-01\", group_by='ticker')\n",
            "\r[*********************100%***********************]  1 of 1 completed"
          ]
        },
        {
          "output_type": "stream",
          "name": "stdout",
          "text": [
            "✅ Columns after fix:\n",
            " ['Open', 'High', 'Low', 'Close', 'Volume']\n",
            "\n",
            "Sample data:\n",
            "                Open      High       Low     Close    Volume\n",
            "Date                                                        \n",
            "2009-01-02 17.255395 18.517986 17.186076 18.171392   9887600\n",
            "2009-01-05 18.067419 19.429036 18.017904 18.854681  20790600\n",
            "2009-01-06 19.691457 20.196494 19.369620 19.929121  21317800\n",
            "2009-01-07 19.300297 19.334957 18.418961 18.745749  18219400\n",
            "2009-01-08 18.552647 19.003218 18.250615 18.899239  16609800\n"
          ]
        },
        {
          "output_type": "stream",
          "name": "stderr",
          "text": [
            "\n"
          ]
        }
      ]
    },
    {
      "cell_type": "code",
      "source": [
        "\n",
        "# STEP 2: Compute Technical Indicators\n",
        "# ------------------------------------------------------------\n",
        "\n",
        "# RSI\n",
        "df[\"RSI_14\"] = ta.rsi(df[\"Close\"], length=14)\n",
        "\n",
        "# Bollinger Bands (%B)\n",
        "bbands = ta.bbands(df[\"Close\"], length=20)\n",
        "\n",
        "# If bbands was returned successfully, merge it\n",
        "if bbands is not None and isinstance(bbands, pd.DataFrame):\n",
        "    df = pd.concat([df, bbands], axis=1)\n",
        "    # Find and rename %B column\n",
        "    bbp_candidates = [c for c in df.columns if \"bbp\" in c.lower()]\n",
        "    if bbp_candidates:\n",
        "        df.rename(columns={bbp_candidates[0]: \"BBP\"}, inplace=True)\n",
        "    else:\n",
        "        raise KeyError(\"❌ Could not find BBP column after merging Bollinger Bands.\")\n",
        "else:\n",
        "    raise RuntimeError(\"❌ ta.bbands() did not return a DataFrame — check pandas_ta version.\")\n",
        "# Balance of Power (manual)\n",
        "df[\"BOP\"] = (df[\"Close\"] - df[\"Open\"]) / (df[\"High\"] - df[\"Low\"])\n",
        "df[\"BOP\"].replace([np.inf, -np.inf], np.nan, inplace=True)\n",
        "df[\"BOP\"].fillna(0, inplace=True)\n",
        "\n",
        "# Williams %R\n",
        "df[\"WILLR\"] = ta.willr(df[\"High\"], df[\"Low\"], df[\"Close\"], length=14)\n",
        "\n",
        "# Simple Moving Average\n",
        "df[\"SMA_20\"] = ta.sma(df[\"Close\"], length=20)\n",
        "\n",
        "# Drop NaN rows generated by indicators\n",
        "df = df.dropna()\n",
        "\n",
        "print(\"Indicators added:\", [c for c in df.columns if c not in ['Open','High','Low','Close','Adj close','Volume']])"
      ],
      "metadata": {
        "colab": {
          "base_uri": "https://localhost:8080/"
        },
        "id": "z0fZN8jq3CUf",
        "outputId": "afcfac7a-20e3-44fd-81c2-403b8f1678ac"
      },
      "execution_count": null,
      "outputs": [
        {
          "output_type": "stream",
          "name": "stdout",
          "text": [
            "Indicators added: ['RSI_14', 'BOP', 'WILLR', 'SMA_20', 'Target', 'BBL_20_2.0_2.0', 'BBM_20_2.0_2.0', 'BBU_20_2.0_2.0', 'BBB_20_2.0_2.0', 'BBP']\n"
          ]
        },
        {
          "output_type": "stream",
          "name": "stderr",
          "text": [
            "/tmp/ipython-input-1255627854.py:23: ChainedAssignmentError: A value is trying to be set on a copy of a DataFrame or Series through chained assignment using an inplace method.\n",
            "When using the Copy-on-Write mode, such inplace method never works to update the original DataFrame or Series, because the intermediate object on which we are setting values always behaves as a copy.\n",
            "\n",
            "For example, when doing 'df[col].method(value, inplace=True)', try using 'df.method({col: value}, inplace=True)' instead, to perform the operation inplace on the original object.\n",
            "\n",
            "\n",
            "  df[\"BOP\"].replace([np.inf, -np.inf], np.nan, inplace=True)\n",
            "/tmp/ipython-input-1255627854.py:24: ChainedAssignmentError: A value is trying to be set on a copy of a DataFrame or Series through chained assignment using an inplace method.\n",
            "When using the Copy-on-Write mode, such inplace method never works to update the original DataFrame or Series, because the intermediate object on which we are setting values always behaves as a copy.\n",
            "\n",
            "For example, when doing 'df[col].method(value, inplace=True)', try using 'df.method({col: value}, inplace=True)' instead, to perform the operation inplace on the original object.\n",
            "\n",
            "\n",
            "  df[\"BOP\"].fillna(0, inplace=True)\n"
          ]
        }
      ]
    },
    {
      "cell_type": "code",
      "source": [
        "# ============================================================\n",
        "# STEP 3: Define Target (Next-day direction)\n",
        "# ============================================================\n",
        "df[\"Target\"] = np.where(df[\"Open\"].shift(-1) > df[\"Open\"], 1, 0)\n",
        "df = df.dropna()\n",
        "print(\"\\n✅ Target variable added. Example values:\", df[\"Target\"].unique())\n"
      ],
      "metadata": {
        "colab": {
          "base_uri": "https://localhost:8080/"
        },
        "id": "X6Q1Ph9N3CW0",
        "outputId": "f8dc37cd-4cbd-4279-ad93-a178a4c753dd"
      },
      "execution_count": null,
      "outputs": [
        {
          "output_type": "stream",
          "name": "stdout",
          "text": [
            "\n",
            "✅ Target variable added. Example values: [0 1]\n"
          ]
        }
      ]
    },
    {
      "cell_type": "code",
      "source": [
        "# ============================================================\n",
        "# STEP 4: Feature Selection (Correlation)\n",
        "# ============================================================\n",
        "features = [\"RSI_14\", \"BBP\", \"BOP\", \"WILLR\", \"SMA_20\"]\n",
        "correlations = df[features + [\"Target\"]].corr()[\"Target\"].abs().sort_values(ascending=False)\n",
        "print(\"\\n📊 Feature correlations with Target:\")\n",
        "print(correlations)\n",
        "\n",
        "# Select the top 3 most correlated features\n",
        "selected_features = correlations.index[1:4].tolist()\n",
        "print(\"\\n✅ Selected features:\", selected_features)"
      ],
      "metadata": {
        "colab": {
          "base_uri": "https://localhost:8080/"
        },
        "id": "2lvMQ_7o3CZR",
        "outputId": "7764c221-09c1-44c0-a364-0839ba7b4e93"
      },
      "execution_count": null,
      "outputs": [
        {
          "output_type": "stream",
          "name": "stdout",
          "text": [
            "\n",
            "📊 Feature correlations with Target:\n",
            "Target   1.000000\n",
            "BOP      0.609477\n",
            "WILLR    0.234614\n",
            "BBP      0.210017\n",
            "RSI_14   0.165283\n",
            "SMA_20   0.028093\n",
            "Name: Target, dtype: float64\n",
            "\n",
            "✅ Selected features: ['BOP', 'WILLR', 'BBP']\n"
          ]
        }
      ]
    },
    {
      "cell_type": "code",
      "source": [
        "from sklearn.preprocessing import MinMaxScaler\n",
        "\n",
        "# Features and target\n",
        "X_full = df[features]\n",
        "X_selected = df[selected_features]\n",
        "y = df[\"Target\"]\n",
        "\n",
        "# Normalize\n",
        "scaler = MinMaxScaler()\n",
        "X_full_scaled = scaler.fit_transform(X_full)\n",
        "X_sel_scaled = scaler.fit_transform(X_selected)\n",
        "\n",
        "print(\"✅ Data scaled and ready for modeling.\")\n",
        "print(f\"Full features shape: {X_full_scaled.shape}\")\n",
        "print(f\"Selected features shape: {X_sel_scaled.shape}\")\n"
      ],
      "metadata": {
        "colab": {
          "base_uri": "https://localhost:8080/"
        },
        "id": "XoRqsfh83Cb_",
        "outputId": "94147d2e-f4df-417a-88fe-37c60a7d2e61"
      },
      "execution_count": null,
      "outputs": [
        {
          "output_type": "stream",
          "name": "stdout",
          "text": [
            "✅ Data scaled and ready for modeling.\n",
            "Full features shape: (2730, 5)\n",
            "Selected features shape: (2730, 3)\n"
          ]
        }
      ]
    },
    {
      "cell_type": "code",
      "source": [
        "from sklearn.model_selection import StratifiedKFold\n",
        "from sklearn.neural_network import MLPClassifier\n",
        "from sklearn.metrics import accuracy_score\n",
        "import numpy as np\n",
        "\n",
        "mlp = MLPClassifier(\n",
        "    hidden_layer_sizes=(len(selected_features)+1)//2,  # small network\n",
        "    activation=\"logistic\",\n",
        "    solver=\"lbfgs\",\n",
        "    learning_rate_init=0.03,\n",
        "    max_iter=5000,\n",
        "    random_state=42\n",
        ")\n",
        "\n",
        "kf = StratifiedKFold(n_splits=10, shuffle=True, random_state=42)\n",
        "\n",
        "def cross_val_accuracy(X, y):\n",
        "    scores = []\n",
        "    for train_idx, test_idx in kf.split(X, y):\n",
        "        X_train, X_test = X[train_idx], X[test_idx]\n",
        "        y_train, y_test = y.iloc[train_idx], y.iloc[test_idx]\n",
        "        mlp.fit(X_train, y_train)\n",
        "        y_pred = mlp.predict(X_test)\n",
        "        scores.append(accuracy_score(y_test, y_pred))\n",
        "    return np.mean(scores)\n",
        "\n",
        "# Cross-validation\n",
        "acc_full = cross_val_accuracy(X_full_scaled, y)\n",
        "acc_sel = cross_val_accuracy(X_sel_scaled, y)\n",
        "\n",
        "print(f\"\\n🎯 Full Feature Accuracy: {acc_full*100:.2f}%\")\n",
        "print(f\"🎯 Selected Feature Accuracy: {acc_sel*100:.2f}%\")\n"
      ],
      "metadata": {
        "colab": {
          "base_uri": "https://localhost:8080/"
        },
        "id": "zMU0lLmn3Cd5",
        "outputId": "0de4db94-543d-489f-d698-9e0c78c6c4b0"
      },
      "execution_count": null,
      "outputs": [
        {
          "output_type": "stream",
          "name": "stdout",
          "text": [
            "\n",
            "🎯 Full Feature Accuracy: 77.00%\n",
            "🎯 Selected Feature Accuracy: 77.18%\n"
          ]
        }
      ]
    },
    {
      "cell_type": "code",
      "source": [
        "import matplotlib.pyplot as plt\n",
        "\n",
        "plt.figure(figsize=(6,5))\n",
        "plt.bar([\"Full Set\", \"Selected Features\"],\n",
        "        [acc_full*100, acc_sel*100],\n",
        "        color=[\"gray\", \"skyblue\"])\n",
        "plt.title(\"EWZ ETF - Accuracy Comparison (10-Fold Cross-Validation)\")\n",
        "plt.ylabel(\"Accuracy (%)\")\n",
        "plt.show()\n"
      ],
      "metadata": {
        "colab": {
          "base_uri": "https://localhost:8080/",
          "height": 468
        },
        "id": "nRdTgEJg3CgX",
        "outputId": "7fbac2fe-7387-44c9-d9f5-161805385e00"
      },
      "execution_count": null,
      "outputs": [
        {
          "output_type": "display_data",
          "data": {
            "text/plain": [
              "<Figure size 600x500 with 1 Axes>"
            ],
            "image/png": "[encoded data removed]"
          },
          "metadata": {}
        }
      ]
    },
    {
      "cell_type": "code",
      "source": [
        "print(\"\\n=== Summary ===\")\n",
        "print(f\"Samples used: {len(df)}\")\n",
        "print(f\"Selected indicators: {selected_features}\")\n",
        "print(f\"Full accuracy: {acc_full*100:.2f}%\")\n",
        "print(f\"Reduced accuracy: {acc_sel*100:.2f}%\")\n",
        "improvement = acc_sel - acc_full\n",
        "print(f\"Accuracy difference: {improvement:+.4f}\")\n",
        "\n",
        "if improvement > 0:\n",
        "    print(\"✅ Using selected features improved accuracy and reduced model complexity.\")\n",
        "else:\n",
        "    print(\"⚠️ Full feature set performed slightly better; try more data or indicators.\")\n"
      ],
      "metadata": {
        "colab": {
          "base_uri": "https://localhost:8080/"
        },
        "id": "QaFiiiNp3Ci4",
        "outputId": "5c368ff7-5a90-4543-ae91-198d764e090c"
      },
      "execution_count": null,
      "outputs": [
        {
          "output_type": "stream",
          "name": "stdout",
          "text": [
            "\n",
            "=== Summary ===\n",
            "Samples used: 2730\n",
            "Selected indicators: ['BOP', 'WILLR', 'BBP']\n",
            "Full accuracy: 77.00%\n",
            "Reduced accuracy: 77.18%\n",
            "Accuracy difference: +0.0018\n",
            "✅ Using selected features improved accuracy and reduced model complexity.\n"
          ]
        }
      ]
    },
    {
      "cell_type": "code",
      "source": [
        "# ============================================================\n",
        "# Step 9 – Replicate Tables 3 & 4 and Accuracy Gain Chart\n",
        "# ============================================================\n",
        "import pandas as pd\n",
        "import numpy as np\n",
        "import matplotlib.pyplot as plt\n",
        "from sklearn.model_selection import StratifiedKFold\n",
        "from sklearn.neural_network import MLPClassifier\n",
        "from sklearn.preprocessing import MinMaxScaler\n",
        "from sklearn.metrics import accuracy_score\n",
        "\n",
        "# ------------------------------------------------------------\n",
        "# 1. Reuse your feature ranking from Step 4\n",
        "# ------------------------------------------------------------\n",
        "ranked_features = correlations.index[:-1].tolist()  # remove 'Target' itself if included\n",
        "\n",
        "# ------------------------------------------------------------\n",
        "# 2. Define CV and model setup\n",
        "# ------------------------------------------------------------\n",
        "kf = StratifiedKFold(n_splits=10, shuffle=True, random_state=42)\n",
        "mlp = MLPClassifier(\n",
        "    activation=\"logistic\",\n",
        "    solver=\"lbfgs\",\n",
        "    learning_rate_init=0.03,\n",
        "    max_iter=5000,\n",
        "    random_state=42\n",
        ")\n",
        "\n",
        "# ------------------------------------------------------------\n",
        "# 3. Compute accuracy for 0–len(features)\n",
        "# ------------------------------------------------------------\n",
        "n_features = list(range(len(ranked_features)+1))\n",
        "median_acc = []\n",
        "num_selected = []\n",
        "\n",
        "scaler = MinMaxScaler()\n",
        "\n",
        "for n in n_features:\n",
        "    if n == 0:\n",
        "        # Baseline: model trained on no technical indicator (use only past Open as dummy)\n",
        "        X = df[[\"Open\"]].values\n",
        "    else:\n",
        "        X = df[ranked_features[:n]].values\n",
        "\n",
        "    X_scaled = scaler.fit_transform(X)\n",
        "    y = df[\"Target\"].values\n",
        "\n",
        "    # Cross-validation\n",
        "    scores = []\n",
        "    for train_idx, test_idx in kf.split(X_scaled, y):\n",
        "        mlp.fit(X_scaled[train_idx], y[train_idx])\n",
        "        y_pred = mlp.predict(X_scaled[test_idx])\n",
        "        scores.append(accuracy_score(y[test_idx], y_pred))\n",
        "\n",
        "    median_acc.append(np.median(scores) * 100)  # % scale\n",
        "    num_selected.append(n)\n",
        "\n",
        "# ------------------------------------------------------------\n",
        "# 4. Create DataFrames like Tables 3 & 4\n",
        "# ------------------------------------------------------------\n",
        "table3 = pd.DataFrame({\n",
        "    \"Selected (n)\": num_selected,\n",
        "    \"Count\": [len(df)]*len(num_selected)\n",
        "})\n",
        "\n",
        "table4 = pd.DataFrame({\n",
        "    \"Selected (n)\": num_selected,\n",
        "    \"Median Accuracy (%)\": median_acc\n",
        "})\n",
        "\n",
        "# ------------------------------------------------------------\n",
        "# 5. Plot Accuracy Gain\n",
        "# ------------------------------------------------------------\n",
        "gain = [a - median_acc[0] for a in median_acc]\n",
        "\n",
        "plt.figure(figsize=(8,5))\n",
        "plt.plot(num_selected, gain, marker='o', color='steelblue')\n",
        "plt.title(\"Accuracy Gain (%) — EWZ ETF\")\n",
        "plt.xlabel(\"Number of Selected Features (n)\")\n",
        "plt.ylabel(\"Accuracy Gain (%) vs n=0 baseline\")\n",
        "plt.grid(True)\n",
        "plt.show()\n",
        "\n",
        "# ------------------------------------------------------------\n",
        "# 6. Display Tables\n",
        "# ------------------------------------------------------------\n",
        "print(\"\\n=== Table 3 — Number of features selected (EWZ) ===\")\n",
        "print(table3.to_string(index=False))\n",
        "\n",
        "print(\"\\n=== Table 4 — Median accuracy after cross-validation (EWZ) ===\")\n",
        "print(table4.to_string(index=False))\n",
        "\n",
        "# Optional: accuracy gain table\n",
        "gain_table = pd.DataFrame({\n",
        "    \"n\": num_selected,\n",
        "    \"Accuracy Gain (%)\": np.round(gain,2)\n",
        "})\n",
        "print(\"\\n=== Accuracy Gain (%) ===\")\n",
        "print(gain_table.to_string(index=False))\n"
      ],
      "metadata": {
        "colab": {
          "base_uri": "https://localhost:8080/",
          "height": 956
        },
        "id": "mQZPqMRp3ClX",
        "outputId": "9e48cf28-bbb7-4002-bd23-c057feae8e9f"
      },
      "execution_count": null,
      "outputs": [
        {
          "output_type": "display_data",
          "data": {
            "text/plain": [
              "<Figure size 800x500 with 1 Axes>"
            ],
            "image/png": "[encoded data removed]"
          },
          "metadata": {}
        },
        {
          "output_type": "stream",
          "name": "stdout",
          "text": [
            "\n",
            "=== Table 3 — Number of features selected (EWZ) ===\n",
            " Selected (n)  Count\n",
            "            0   2730\n",
            "            1   2730\n",
            "            2   2730\n",
            "            3   2730\n",
            "            4   2730\n",
            "            5   2730\n",
            "\n",
            "=== Table 4 — Median accuracy after cross-validation (EWZ) ===\n",
            " Selected (n)  Median Accuracy (%)\n",
            "            0            51.098901\n",
            "            1           100.000000\n",
            "            2           100.000000\n",
            "            3           100.000000\n",
            "            4           100.000000\n",
            "            5           100.000000\n",
            "\n",
            "=== Accuracy Gain (%) ===\n",
            " n  Accuracy Gain (%)\n",
            " 0           0.000000\n",
            " 1          48.900000\n",
            " 2          48.900000\n",
            " 3          48.900000\n",
            " 4          48.900000\n",
            " 5          48.900000\n"
          ]
        }
      ]
    },
    {
      "cell_type": "markdown",
      "source": [
        "**5) Python code to import and structure into useful data structures**"
      ],
      "metadata": {
        "id": "McpqRwVSEmJQ"
      }
    },
    {
      "cell_type": "code",
      "source": [
        "pip install newsapi-python pandas nltk"
      ],
      "metadata": {
        "id": "CD9cvIdL3CsX",
        "colab": {
          "base_uri": "https://localhost:8080/"
        },
        "outputId": "f84d94aa-1946-48e3-f184-a1644140a457"
      },
      "execution_count": 57,
      "outputs": [
        {
          "output_type": "stream",
          "name": "stdout",
          "text": [
            "Requirement already satisfied: newsapi-python in /usr/local/lib/python3.12/dist-packages (0.2.7)\n",
            "Requirement already satisfied: pandas in /usr/local/lib/python3.12/dist-packages (2.3.3)\n",
            "Requirement already satisfied: nltk in /usr/local/lib/python3.12/dist-packages (3.9.1)\n",
            "Requirement already satisfied: requests<3.0.0 in /usr/local/lib/python3.12/dist-packages (from newsapi-python) (2.32.4)\n",
            "Requirement already satisfied: numpy>=1.26.0 in /usr/local/lib/python3.12/dist-packages (from pandas) (2.2.6)\n",
            "Requirement already satisfied: python-dateutil>=2.8.2 in /usr/local/lib/python3.12/dist-packages (from pandas) (2.9.0.post0)\n",
            "Requirement already satisfied: pytz>=2020.1 in /usr/local/lib/python3.12/dist-packages (from pandas) (2025.2)\n",
            "Requirement already satisfied: tzdata>=2022.7 in /usr/local/lib/python3.12/dist-packages (from pandas) (2025.2)\n",
            "Requirement already satisfied: click in /usr/local/lib/python3.12/dist-packages (from nltk) (8.3.0)\n",
            "Requirement already satisfied: joblib in /usr/local/lib/python3.12/dist-packages (from nltk) (1.5.2)\n",
            "Requirement already satisfied: regex>=2021.8.3 in /usr/local/lib/python3.12/dist-packages (from nltk) (2024.11.6)\n",
            "Requirement already satisfied: tqdm in /usr/local/lib/python3.12/dist-packages (from nltk) (4.67.1)\n",
            "Requirement already satisfied: six>=1.5 in /usr/local/lib/python3.12/dist-packages (from python-dateutil>=2.8.2->pandas) (1.17.0)\n",
            "Requirement already satisfied: charset_normalizer<4,>=2 in /usr/local/lib/python3.12/dist-packages (from requests<3.0.0->newsapi-python) (3.4.4)\n",
            "Requirement already satisfied: idna<4,>=2.5 in /usr/local/lib/python3.12/dist-packages (from requests<3.0.0->newsapi-python) (3.11)\n",
            "Requirement already satisfied: urllib3<3,>=1.21.1 in /usr/local/lib/python3.12/dist-packages (from requests<3.0.0->newsapi-python) (2.5.0)\n",
            "Requirement already satisfied: certifi>=2017.4.17 in /usr/local/lib/python3.12/dist-packages (from requests<3.0.0->newsapi-python) (2025.10.5)\n"
          ]
        }
      ]
    },
    {
      "cell_type": "markdown",
      "source": [
        "Python Connection and Data Import\n",
        "\n",
        "Replace \"YOUR_API_KEY\" with your actual NewsAPI key.\n",
        "This script will fetch the latest financial or stock market headlines."
      ],
      "metadata": {
        "id": "8399b75PEfiY"
      }
    },
    {
      "cell_type": "code",
      "source": [
        "from newsapi import NewsApiClient\n",
        "import pandas as pd\n",
        "\n",
        "# Initialize the client\n",
        "newsapi = NewsApiClient(api_key=\"41daf7e9e3104ff78c2eb9e49fef9154\" )\n",
        "\n",
        "# Fetch recent news related to finance or markets\n",
        "articles = newsapi.get_everything(\n",
        "    q=\"stock market OR finance OR investing\",\n",
        "    language=\"en\",\n",
        "    sort_by=\"publishedAt\",\n",
        "    page_size=50\n",
        ")\n",
        "\n",
        "# Parse results into a DataFrame\n",
        "data = []\n",
        "for article in articles[\"articles\"]:\n",
        "    data.append({\n",
        "        \"source\": article[\"source\"][\"name\"],\n",
        "        \"author\": article[\"author\"],\n",
        "        \"title\": article[\"title\"],\n",
        "        \"description\": article[\"description\"],\n",
        "        \"url\": article[\"url\"],\n",
        "        \"publishedAt\": article[\"publishedAt\"]\n",
        "    })\n",
        "\n",
        "df = pd.DataFrame(data)\n",
        "print(df.head())\n"
      ],
      "metadata": {
        "id": "UFaZsI_G3CvK",
        "colab": {
          "base_uri": "https://localhost:8080/"
        },
        "outputId": "49087e43-b39a-4d1b-a615-e49c15b805a3"
      },
      "execution_count": 58,
      "outputs": [
        {
          "output_type": "stream",
          "name": "stdout",
          "text": [
            "                source          author  \\\n",
            "0            TheStreet    Moz Farooque   \n",
            "1  Yahoo Entertainment  Simply Wall St   \n",
            "2  Yahoo Entertainment  Simply Wall St   \n",
            "3           Biztoc.com   bloomberg.com   \n",
            "4           Biztoc.com         wsj.com   \n",
            "\n",
            "                                               title  \\\n",
            "0  Veteran analyst resets Big Tech ‘buy’ list for...   \n",
            "1  A Fresh Look at Siemens (XTRA:SIE) Valuation F...   \n",
            "2  Orange (ENXTPA:ORA): Assessing Valuation After...   \n",
            "3  Glass Half-Full Economy Has Rarely Looked So Good   \n",
            "4  OpenAI's Broadcom deal shows how the AI startu...   \n",
            "\n",
            "                                         description  \\\n",
            "0  For all the “bubble” talk on the AI trade, the...   \n",
            "1  Siemens (XTRA:SIE) shares are catching attenti...   \n",
            "2  Orange (ENXTPA:ORA) has seen its stock move st...   \n",
            "3                                                      \n",
            "4                                                      \n",
            "\n",
            "                                                 url           publishedAt  \n",
            "0  https://www.thestreet.com/technology/veteran-a...  2025-10-19T19:13:00Z  \n",
            "1  https://finance.yahoo.com/news/fresh-look-siem...  2025-10-19T19:08:41Z  \n",
            "2  https://finance.yahoo.com/news/orange-enxtpa-o...  2025-10-19T19:08:34Z  \n",
            "3              https://biztoc.com/x/081cd7396965f5fe  2025-10-19T19:06:04Z  \n",
            "4              https://biztoc.com/x/b1369258ba7e4de3  2025-10-19T18:54:44Z  \n"
          ]
        }
      ]
    },
    {
      "cell_type": "markdown",
      "source": [
        "**Add Sentiment Analysis (VADER)**\n",
        "\n",
        "We’ll use the VADER analyzer from nltk (works well for headlines and tweets)."
      ],
      "metadata": {
        "id": "fNl00XNiEVN0"
      }
    },
    {
      "cell_type": "code",
      "source": [
        "from nltk.sentiment.vader import SentimentIntensityAnalyzer\n",
        "import nltk\n",
        "nltk.download('vader_lexicon')\n",
        "\n",
        "sia = SentimentIntensityAnalyzer()\n",
        "\n",
        "df[\"sentiment\"] = df[\"title\"].apply(lambda x: sia.polarity_scores(str(x))[\"compound\"])\n",
        "print(df[[\"title\", \"sentiment\"]].head())\n"
      ],
      "metadata": {
        "id": "wJewpoA33Cxq",
        "colab": {
          "base_uri": "https://localhost:8080/"
        },
        "outputId": "5f87de3e-452d-43fa-eb2b-434db404600b"
      },
      "execution_count": 67,
      "outputs": [
        {
          "output_type": "stream",
          "name": "stdout",
          "text": [
            "                                               title  sentiment\n",
            "0  Veteran analyst resets Big Tech ‘buy’ list for...   0.000000\n",
            "1  A Fresh Look at Siemens (XTRA:SIE) Valuation F...   0.542300\n",
            "2  Orange (ENXTPA:ORA): Assessing Valuation After...   0.557400\n",
            "3  Glass Half-Full Economy Has Rarely Looked So Good  -0.386500\n",
            "4  OpenAI's Broadcom deal shows how the AI startu...   0.000000\n"
          ]
        },
        {
          "output_type": "stream",
          "name": "stderr",
          "text": [
            "[nltk_data] Downloading package vader_lexicon to /root/nltk_data...\n",
            "[nltk_data]   Package vader_lexicon is already up-to-date!\n"
          ]
        }
      ]
    },
    {
      "cell_type": "markdown",
      "source": [
        "Interpretation:\n",
        "\n",
        "> 0.05 → positive\n",
        "\n",
        "< -0.05 → negative\n",
        "\n",
        "else → neutral\n",
        "\n",
        "You can classify them:"
      ],
      "metadata": {
        "id": "YI3wUU8sHroK"
      }
    },
    {
      "cell_type": "code",
      "source": [
        "def classify_sentiment(score):\n",
        "    if score > 0.05:\n",
        "        return \"positive\"\n",
        "    elif score < -0.05:\n",
        "        return \"negative\"\n",
        "    else:\n",
        "        return \"neutral\"\n",
        "\n",
        "df[\"label\"] = df[\"sentiment\"].apply(classify_sentiment)\n"
      ],
      "metadata": {
        "id": "fVHW_xKx3Cz8"
      },
      "execution_count": 68,
      "outputs": []
    },
    {
      "cell_type": "markdown",
      "source": [
        "**6) Exploratory Aata Analysis of sample data**"
      ],
      "metadata": {
        "id": "VblX76bxC2Qu"
      }
    },
    {
      "cell_type": "code",
      "source": [
        "import matplotlib.pyplot as plt\n",
        "\n",
        "df[\"sentiment\"].plot(kind=\"hist\", bins=20, title=\"Sentiment Distribution\", figsize=(8,4))\n",
        "plt.xlabel(\"Sentiment Score (-1 = negative, +1 = positive)\")\n",
        "plt.show()\n"
      ],
      "metadata": {
        "colab": {
          "base_uri": "https://localhost:8080/",
          "height": 410
        },
        "id": "AMrHTy2HCs3g",
        "outputId": "e09053ab-765b-4f75-ccd6-ca7bd706c9a7"
      },
      "execution_count": 61,
      "outputs": [
        {
          "output_type": "display_data",
          "data": {
            "text/plain": [
              "<Figure size 800x400 with 1 Axes>"
            ],
            "image/png": "[encoded data removed]"
          },
          "metadata": {}
        }
      ]
    },
    {
      "cell_type": "markdown",
      "source": [
        "Articles per sentiment label"
      ],
      "metadata": {
        "id": "0wJGsR8CC9Uj"
      }
    },
    {
      "cell_type": "code",
      "source": [
        "df[\"label\"].value_counts().plot(kind=\"bar\", title=\"Sentiment Categories\", figsize=(6,4))\n",
        "plt.show()"
      ],
      "metadata": {
        "colab": {
          "base_uri": "https://localhost:8080/",
          "height": 457
        },
        "id": "TtFucqqsCtFU",
        "outputId": "125d1f45-83e2-4eaa-f765-4f94727474e7"
      },
      "execution_count": 62,
      "outputs": [
        {
          "output_type": "display_data",
          "data": {
            "text/plain": [
              "<Figure size 600x400 with 1 Axes>"
            ],
            "image/png": "[encoded data removed]"
          },
          "metadata": {}
        }
      ]
    },
    {
      "cell_type": "markdown",
      "source": [
        "Top 10 most positive / negative headlines"
      ],
      "metadata": {
        "id": "-G8xUAW3DB-t"
      }
    },
    {
      "cell_type": "code",
      "source": [
        "print(\"Most Positive:\")\n",
        "print(df.nlargest(10, \"sentiment\")[[\"title\", \"sentiment\"]])\n",
        "\n",
        "print(\"\\nMost Negative:\")\n",
        "print(df.nsmallest(10, \"sentiment\")[[\"title\", \"sentiment\"]])"
      ],
      "metadata": {
        "colab": {
          "base_uri": "https://localhost:8080/"
        },
        "id": "HOW4ao8yCtKM",
        "outputId": "eace175c-b673-4e20-8614-8c31c5f93a6f"
      },
      "execution_count": 69,
      "outputs": [
        {
          "output_type": "stream",
          "name": "stdout",
          "text": [
            "Most Positive:\n",
            "                                                title  sentiment\n",
            "37  ROSEN, A RANKED AND LEADING LAW FIRM, Encourag...   0.807400\n",
            "17  Man United stun Liverpool to end nine-year wai...   0.765000\n",
            "24  Opposition Candidate Wins Northern Cyprus Pres...   0.571900\n",
            "2   Orange (ENXTPA:ORA): Assessing Valuation After...   0.557400\n",
            "13  Does Warren Buffett Know Something Wall Street...   0.557400\n",
            "1   A Fresh Look at Siemens (XTRA:SIE) Valuation F...   0.542300\n",
            "11  Brown short ribs in the oven to skip the stove...   0.509500\n",
            "28  Cameco Stock Is Having a Good Year so Far. Can...   0.440400\n",
            "5   Full Retirement Age is Changing for Social Sec...   0.340000\n",
            "30  India, Brazil initiate talks to expand Mercosu...   0.318200\n",
            "\n",
            "Most Negative:\n",
            "                                                title  sentiment\n",
            "6   Horror sequel ‘Black Phone 2’ dials up a No. 1...  -0.709600\n",
            "48                      Fearful About BDCs? Be Greedy  -0.670500\n",
            "7   PepsiCo is fixing what broke, but shoppers may...  -0.653300\n",
            "8   Investors have reasons to be nervous about mar...  -0.542300\n",
            "46  Zions Bancorporation Investor News: If You Hav...  -0.526700\n",
            "18  FinMin steps in PSBs asked to tackle employee ...  -0.421500\n",
            "3   Glass Half-Full Economy Has Rarely Looked So Good  -0.386500\n",
            "9   Kast’s Election Campaign Vows $21 Billion Spen...  -0.273200\n",
            "20  This might be the coolest Star Wars holiday co...  -0.102700\n",
            "47  Elon Musk Pay Drama Heats Up Ahead of Tesla Ea...  -0.102700\n"
          ]
        }
      ]
    }
  ]
}