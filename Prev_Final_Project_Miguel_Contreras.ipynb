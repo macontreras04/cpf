{
 "cells": [
  {
   "cell_type": "markdown",
   "id": "60bc09f9",
   "metadata": {},
   "source": [
    "## Complete Market Models & Pricing Library ##"
   ]
  },
  {
   "cell_type": "markdown",
   "id": "857245ec",
   "metadata": {},
   "source": [
    "# Abstract\n",
    "\n",
    "Risk Neutral Valuation has profoundly influenced the field of mathematical finance. The pioneering work of Bachelier laid the groundwork for subsequent researchers, including Black, Scholes, and Merton, whose contributions have shaped modern financial theory. Today, these mathematical foundations are integral to the models used for pricing derivatives on the trading floors of banks, asset management firms, and other financial institutions. Concurrently, Python has emerged as the most prevalent language for implementing these models. This paper demonstrates how to build pricers for both vanilla and exotic options using object-oriented programming in Python. The classes developed in this paper leverage Monte Carlo simulation and geometric Brownian motion as the underlying stochastic processes to provide accurate and efficient pricing solutions.\n",
    "\n",
    "\n",
    "### Introduction\n",
    "\n",
    "Risk Neutral Valuation marks a significant milestone in mathematical finance, tracing back to Bachelier's pioneering work, and subsequently refined by Black, Scholes, and Merton. This approach underpins the pricing models for derivatives widely used across financial institutions. With Python's growing popularity in the financial sector, this project showcases the implementation of option pricers using object-oriented programming.\n",
    "\n",
    "### Methodology\n",
    "\n",
    "#### Geometric Brownian Motion\n",
    "\n",
    "Geometric Brownian Motion (GBM) is the stochastic process used to model the underlying asset's price dynamics.\n",
    "\n",
    "#### Monte Carlo Simulation\n",
    "\n",
    "Monte Carlo Simulation is a computational algorithm that uses repeated random sampling to obtain numerical results, often used in option pricing to simulate the various paths an asset price might take."
   ]
  },
  {
   "cell_type": "markdown",
   "id": "ab040b7a",
   "metadata": {},
   "source": [
    "\n",
    "Discounting Class:\n",
    "\n",
    "The class models risk-neutral discounting, which is a fundamental concept in option pricing.\n",
    "The risk-neutral discount factor is given by \n",
    "𝐷\n",
    "(\n",
    "𝑡\n",
    ")\n",
    "=\n",
    "𝑒\n",
    "−\n",
    "𝑟\n",
    "𝑡\n",
    "D(t)=e \n",
    "−rt\n",
    " , where \n",
    "𝑟\n",
    "r is the risk-free short rate, and \n",
    "𝑡\n",
    "t is the time to maturity. This formula is used to discount future cash flows to their present value under the risk-neutral measure."
   ]
  },
  {
   "cell_type": "code",
   "execution_count": 44,
   "id": "86e2f658",
   "metadata": {},
   "outputs": [],
   "source": [
    "# Import necessary libraries\n",
    "import numpy as np\n",
    "import matplotlib.pyplot as plt\n",
    "\n",
    "# Risk-neutral discounting class\n",
    "class Discounting:\n",
    "    def __init__(self, short_rate):\n",
    "        self.short_rate = short_rate\n",
    "\n",
    "    def discount_factor(self, t):\n",
    "        return np.exp(-self.short_rate * t)"
   ]
  },
  {
   "cell_type": "markdown",
   "id": "9e17b770",
   "metadata": {},
   "source": [
    "EuropeanOptionParameters Class:\n",
    "\n",
    "This class encapsulates the parameters necessary for modeling a European option, including:\n",
    "Initial value \n",
    "𝑆\n",
    "0\n",
    "S \n",
    "0\n",
    "​\n",
    " : The starting price of the underlying asset.\n",
    "Volatility \n",
    "𝜎\n",
    "σ: The standard deviation of the asset's returns, representing the uncertainty or risk associated with the asset.\n",
    "Time to maturity \n",
    "𝑇\n",
    "T: The duration until the option expires.\n",
    "Strike price \n",
    "𝐾\n",
    "K: The predetermined price at which the option can be exercised.\n",
    "Option type (call or put): Defines whether the option gives the right to buy (call) or sell (put) the underlying asset.\n",
    "Dividends \n",
    "𝑞\n",
    "q: The continuous dividend yield of the underlying asset.\n"
   ]
  },
  {
   "cell_type": "code",
   "execution_count": 45,
   "id": "3219ca27",
   "metadata": {},
   "outputs": [],
   "source": [
    "# Class to model the parameters of the underlying risk factor and European option\n",
    "class EuropeanOptionParameters:\n",
    "    def __init__(self, initial_value, volatility, time_to_maturity, strike_price, option_type, dividends=0):\n",
    "        self.initial_value = initial_value\n",
    "        self.volatility = volatility\n",
    "        self.time_to_maturity = time_to_maturity\n",
    "        self.strike_price = strike_price\n",
    "        self.option_type = option_type\n",
    "        self.dividends = dividends"
   ]
  },
  {
   "cell_type": "markdown",
   "id": "037eeb1e",
   "metadata": {},
   "source": [
    "EuropeanVanillaOption Class:\n",
    "\n",
    "This class uses Monte Carlo simulation to price European vanilla options. The geometric Brownian motion (GBM) model is used to simulate the paths of the underlying asset."
   ]
  },
  {
   "cell_type": "code",
   "execution_count": 46,
   "id": "a8b0fe71",
   "metadata": {},
   "outputs": [],
   "source": [
    "# Class to value European vanilla options using Monte Carlo simulation\n",
    "class EuropeanVanillaOption:\n",
    "    def __init__(self, parameters, discounting):\n",
    "        self.params = parameters\n",
    "        self.discounting = discounting\n",
    "\n",
    "    def generate_asset_prices(self, n_simulations, n_steps):\n",
    "        dt = self.params.time_to_maturity / n_steps\n",
    "        prices = np.zeros((n_simulations, n_steps + 1))\n",
    "        prices[:, 0] = self.params.initial_value\n",
    "        for t in range(1, n_steps + 1):\n",
    "            z = np.random.standard_normal(n_simulations)\n",
    "            prices[:, t] = prices[:, t - 1] * np.exp((self.params.dividends - 0.5 * self.params.volatility ** 2) * dt + self.params.volatility * np.sqrt(dt) * z)\n",
    "        return prices\n",
    "\n",
    "    def price(self, n_simulations=10000, n_steps=100):\n",
    "        prices = self.generate_asset_prices(n_simulations, n_steps)\n",
    "        if self.params.option_type == 'call':\n",
    "            payoffs = np.maximum(prices[:, -1] - self.params.strike_price, 0)\n",
    "        else:\n",
    "            payoffs = np.maximum(self.params.strike_price - prices[:, -1], 0)\n",
    "        discounted_payoff = np.mean(payoffs) * self.discounting.discount_factor(self.params.time_to_maturity)\n",
    "        return discounted_payoff"
   ]
  },
  {
   "cell_type": "markdown",
   "id": "4ed02c74",
   "metadata": {},
   "source": [
    "The GBM model is defined by the stochastic differential equation:\n",
    "𝑑\n",
    "𝑆𝑡\n",
    "=\n",
    "(\n",
    "𝑟\n",
    "−\n",
    "𝑞\n",
    ")\n",
    "𝑆\n",
    "𝑡\n",
    " \n",
    "𝑑\n",
    "𝑡\n",
    "+\n",
    "𝜎\n",
    "𝑆\n",
    "𝑡\n",
    " \n",
    "𝑑\n",
    "𝑊\n",
    "𝑡\n",
    "dS \n",
    "t\n",
    "​\n",
    " =(r−q)S \n",
    "t\n",
    "​\n",
    " dt+σS \n",
    "t\n",
    "​\n",
    " dW \n",
    "t\n",
    "​\n",
    " \n",
    "where \n",
    "𝑆\n",
    "𝑡\n",
    "S \n",
    "t\n",
    "​\n",
    "  is the asset price at time \n",
    "𝑡\n",
    "t, \n",
    "𝑟\n",
    "r is the risk-free rate, \n",
    "𝑞\n",
    "q is the dividend yield, \n",
    "𝜎\n",
    "σ is the volatility, and \n",
    "𝑊\n",
    "𝑡\n",
    "W \n",
    "t\n",
    "​\n",
    "  is a Wiener process (standard Brownian motion).\n"
   ]
  },
  {
   "cell_type": "markdown",
   "id": "4c7c7abf",
   "metadata": {},
   "source": [
    "The Monte Carlo simulation generates multiple paths for the asset price and calculates the payoff for each path. The option price is the discounted average of these payoffs."
   ]
  },
  {
   "cell_type": "markdown",
   "id": "7af95c62",
   "metadata": {},
   "source": [
    "EuropeanLookbackOption Class:\n",
    "\n",
    "This class prices European lookback options, which are exotic options where the payoff depends on the minimum or maximum price of the underlying asset during the option's life.\n",
    "For a floating strike lookback call, the payoff is \n",
    "𝑆\n",
    "𝑇\n",
    "−\n",
    "min\n",
    "⁡\n",
    "(\n",
    "𝑆\n",
    "𝑡\n",
    ")\n",
    "S \n",
    "T\n",
    "​\n",
    " −min(S \n",
    "t\n",
    "​\n",
    " ), where \n",
    "𝑆\n",
    "𝑇\n",
    "S \n",
    "T\n",
    "​\n",
    "  is the final asset price and \n",
    "min\n",
    "⁡\n",
    "(\n",
    "𝑆\n",
    "𝑡\n",
    ")\n",
    "min(S \n",
    "t\n",
    "​\n",
    " ) is the minimum asset price during the life of the option.\n",
    "For a floating strike lookback put, the payoff is \n",
    "max\n",
    "⁡\n",
    "(\n",
    "𝑆\n",
    "𝑡\n",
    ")\n",
    "−\n",
    "𝑆\n",
    "𝑇\n",
    "max(S \n",
    "t\n",
    "​\n",
    " )−S \n",
    "T\n",
    "​\n",
    " .\n",
    "For a fixed strike lookback option, the payoff is based on the maximum or minimum price relative to a fixed strike price."
   ]
  },
  {
   "cell_type": "code",
   "execution_count": 47,
   "id": "646dcbd3",
   "metadata": {},
   "outputs": [],
   "source": [
    "# Class to value European lookback options\n",
    "class EuropeanLookbackOption:\n",
    "    def __init__(self, parameters, discounting, strike_type='floating'):\n",
    "        self.params = parameters\n",
    "        self.discounting = discounting\n",
    "        self.strike_type = strike_type\n",
    "\n",
    "    def generate_asset_prices(self, n_simulations, n_steps):\n",
    "        dt = self.params.time_to_maturity / n_steps\n",
    "        prices = np.zeros((n_simulations, n_steps + 1))\n",
    "        prices[:, 0] = self.params.initial_value\n",
    "        for t in range(1, n_steps + 1):\n",
    "            z = np.random.standard_normal(n_simulations)\n",
    "            prices[:, t] = prices[:, t - 1] * np.exp((self.params.dividends - 0.5 * self.params.volatility ** 2) * dt + self.params.volatility * np.sqrt(dt) * z)\n",
    "        return prices\n",
    "\n",
    "    def price(self, n_simulations=10000, n_steps=100):\n",
    "        prices = self.generate_asset_prices(n_simulations, n_steps)\n",
    "        if self.strike_type == 'floating':\n",
    "            if self.params.option_type == 'call':\n",
    "                payoffs = prices[:, -1] - np.min(prices, axis=1)\n",
    "            else:\n",
    "                payoffs = np.max(prices, axis=1) - prices[:, -1]\n",
    "        else:\n",
    "            if self.params.option_type == 'call':\n",
    "                payoffs = np.maximum(np.max(prices, axis=1) - self.params.strike_price, 0)\n",
    "            else:\n",
    "                payoffs = np.maximum(self.params.strike_price - np.min(prices, axis=1), 0)\n",
    "        discounted_payoff = np.mean(payoffs) * self.discounting.discount_factor(self.params.time_to_maturity)\n",
    "        return discounted_payoff"
   ]
  },
  {
   "cell_type": "markdown",
   "id": "e29bca6a",
   "metadata": {},
   "source": [
    "EuropeanAsianOption Class:\n",
    "\n",
    "This class prices European Asian options, which are options where the payoff depends on the average price of the underlying asset over a certain period.\n",
    "For a fixed strike Asian call, the payoff is \n",
    "max\n",
    "⁡\n",
    "(\n",
    "𝐴\n",
    "−\n",
    "𝐾\n",
    ",\n",
    "0\n",
    ")\n",
    "max(A−K,0), where \n",
    "𝐴\n",
    "A is the average price of the asset and \n",
    "𝐾\n",
    "K is the strike price.\n",
    "For a floating strike Asian call, the payoff is \n",
    "max\n",
    "⁡\n",
    "(\n",
    "𝑆\n",
    "𝑇\n",
    "−\n",
    "𝐴\n",
    ",\n",
    "0\n",
    ")\n",
    "max(S \n",
    "T\n",
    "​\n",
    " −A,0).\n",
    "The Monte Carlo simulation generates multiple paths for the asset price, calculates the average price for each path, and computes the payoff. The option price is the discounted average of these payoffs."
   ]
  },
  {
   "cell_type": "code",
   "execution_count": 48,
   "id": "3910ca93",
   "metadata": {},
   "outputs": [],
   "source": [
    "# Class to value European Asian options\n",
    "class EuropeanAsianOption:\n",
    "    def __init__(self, parameters, discounting, strike_type='fixed'):\n",
    "        self.params = parameters\n",
    "        self.discounting = discounting\n",
    "        self.strike_type = strike_type\n",
    "\n",
    "    def generate_asset_prices(self, n_simulations, n_steps):\n",
    "        dt = self.params.time_to_maturity / n_steps\n",
    "        prices = np.zeros((n_simulations, n_steps + 1))\n",
    "        prices[:, 0] = self.params.initial_value\n",
    "        for t in range(1, n_steps + 1):\n",
    "            z = np.random.standard_normal(n_simulations)\n",
    "            prices[:, t] = prices[:, t - 1] * np.exp((self.params.dividends - 0.5 * self.params.volatility ** 2) * dt + self.params.volatility * np.sqrt(dt) * z)\n",
    "        return prices\n",
    "\n",
    "    def price(self, n_simulations=10000, n_steps=100):\n",
    "        prices = self.generate_asset_prices(n_simulations, n_steps)\n",
    "        average_prices = np.mean(prices, axis=1)\n",
    "        if self.strike_type == 'fixed':\n",
    "            if self.params.option_type == 'call':\n",
    "                payoffs = np.maximum(average_prices - self.params.strike_price, 0)\n",
    "            else:\n",
    "                payoffs = np.maximum(self.params.strike_price - average_prices, 0)\n",
    "        else:\n",
    "            if self.params.option_type == 'call':\n",
    "                payoffs = np.maximum(prices[:, -1] - average_prices, 0)\n",
    "            else:\n",
    "                payoffs = np.maximum(average_prices - prices[:, -1], 0)\n",
    "        discounted_payoff = np.mean(payoffs) * self.discounting.discount_factor(self.params.time_to_maturity)\n",
    "        return discounted_payoff"
   ]
  },
  {
   "cell_type": "markdown",
   "id": "ed683467",
   "metadata": {},
   "source": [
    "This project utilizes hypothetical values for demonstration purposes, meaning they are not actual market quotes from Bloomberg or Eikon Reuters. The primary aim is to illustrate that the pricing engine for each option type is functioning correctly.\n",
    "\n",
    "For future work, it would be beneficial to incorporate real market data and perform a comparative analysis with established financial software such as Murex, Calypso, or Bloomberg. Additionally, benchmarking the results against QuantLib, an open-source library for quantitative finance, would provide further validation of the pricing models. This approach would not only enhance the credibility of the library but also ensure its practical applicability in real-world financial environments."
   ]
  },
  {
   "cell_type": "code",
   "execution_count": 49,
   "id": "3262f143",
   "metadata": {},
   "outputs": [],
   "source": [
    "# Example Usage\n",
    "# Parameters for the options\n",
    "initial_value = 100\n",
    "volatility = 0.2\n",
    "time_to_maturity = 1\n",
    "strike_price = 100\n",
    "option_type = 'call'\n",
    "short_rate = 0.05\n",
    "dividends = 0.02"
   ]
  },
  {
   "cell_type": "code",
   "execution_count": 50,
   "id": "04ba9c11",
   "metadata": {},
   "outputs": [],
   "source": [
    "# Create instances of the classes\n",
    "discounting = Discounting(short_rate)\n",
    "parameters = EuropeanOptionParameters(initial_value, volatility, time_to_maturity, strike_price, option_type, dividends)"
   ]
  },
  {
   "cell_type": "code",
   "execution_count": 51,
   "id": "44abb507",
   "metadata": {},
   "outputs": [
    {
     "name": "stdout",
     "output_type": "stream",
     "text": [
      "European Vanilla Option Price: 8.68700442619533\n"
     ]
    }
   ],
   "source": [
    "# European Vanilla Option\n",
    "vanilla_option = EuropeanVanillaOption(parameters, discounting)\n",
    "vanilla_price = vanilla_option.price()\n",
    "print(f\"European Vanilla Option Price: {vanilla_price}\")"
   ]
  },
  {
   "cell_type": "code",
   "execution_count": 52,
   "id": "9ebca28f",
   "metadata": {},
   "outputs": [
    {
     "name": "stdout",
     "output_type": "stream",
     "text": [
      "European Lookback Option Price (Floating Strike): 14.525730537360635\n"
     ]
    }
   ],
   "source": [
    "# European Lookback Option (Floating Strike)\n",
    "lookback_option_floating = EuropeanLookbackOption(parameters, discounting, strike_type='floating')\n",
    "lookback_price_floating = lookback_option_floating.price()\n",
    "print(f\"European Lookback Option Price (Floating Strike): {lookback_price_floating}\")"
   ]
  },
  {
   "cell_type": "code",
   "execution_count": 53,
   "id": "d126f754",
   "metadata": {},
   "outputs": [
    {
     "name": "stdout",
     "output_type": "stream",
     "text": [
      "European Lookback Option Price (Fixed Strike): 15.854392894769227\n"
     ]
    }
   ],
   "source": [
    "# European Lookback Option (Fixed Strike)\n",
    "lookback_option_fixed = EuropeanLookbackOption(parameters, discounting, strike_type='fixed')\n",
    "lookback_price_fixed = lookback_option_fixed.price()\n",
    "print(f\"European Lookback Option Price (Fixed Strike): {lookback_price_fixed}\")"
   ]
  },
  {
   "cell_type": "code",
   "execution_count": 54,
   "id": "4bb51aff",
   "metadata": {},
   "outputs": [
    {
     "name": "stdout",
     "output_type": "stream",
     "text": [
      "European Asian Option Price (Fixed Strike): 4.90008726365355\n"
     ]
    }
   ],
   "source": [
    "# European Asian Option (Fixed Strike)\n",
    "asian_option_fixed = EuropeanAsianOption(parameters, discounting, strike_type='fixed')\n",
    "asian_price_fixed = asian_option_fixed.price()\n",
    "print(f\"European Asian Option Price (Fixed Strike): {asian_price_fixed}\")"
   ]
  },
  {
   "cell_type": "code",
   "execution_count": 55,
   "id": "4afb2c2a",
   "metadata": {},
   "outputs": [
    {
     "name": "stdout",
     "output_type": "stream",
     "text": [
      "European Asian Option Price (Floating Strike): 4.83085428810326\n"
     ]
    }
   ],
   "source": [
    "# European Asian Option (Floating Strike)\n",
    "asian_option_floating = EuropeanAsianOption(parameters, discounting, strike_type='floating')\n",
    "asian_price_floating = asian_option_floating.price()\n",
    "print(f\"European Asian Option Price (Floating Strike): {asian_price_floating}\")"
   ]
  },
  {
   "cell_type": "markdown",
   "id": "64cef99e",
   "metadata": {},
   "source": [
    "Conclusion\n",
    "This project presents a comprehensive pricing library for European plain vanilla and exotic options using Monte Carlo simulation and geometric Brownian motion as the stochastic process. The key components of the library include classes for risk-neutral discounting, modeling option parameters, and pricing various types of options such as European vanilla, lookback, and Asian options.\n",
    "\n",
    "Key Contributions\n",
    "Risk-Neutral Discounting:\n",
    "\n",
    "The library incorporates a robust risk-neutral discounting mechanism. This fundamental concept is essential for present value calculations of future cash flows under the risk-neutral measure, ensuring that the pricing models adhere to the no-arbitrage condition.\n",
    "Parameter Modeling:\n",
    "\n",
    "The library provides a flexible framework for defining the parameters of the underlying asset and options. This includes initial asset value, volatility, time-to-maturity, strike price, option type (call or put), and dividends. Such flexibility allows the library to accommodate a wide range of market scenarios and financial instruments.\n",
    "Monte Carlo Simulation:\n",
    "\n",
    "At the core of the library is the Monte Carlo simulation technique, which is used to model the stochastic behavior of asset prices. By simulating numerous paths of the asset price under geometric Brownian motion, the library can accurately estimate the expected payoff of various options.\n",
    "The use of Monte Carlo simulation allows for the pricing of options with complex features and path dependencies, such as Asian and lookback options, which are difficult to price using closed-form analytical solutions.\n",
    "Geometric Brownian Motion:\n",
    "\n",
    "The library employs the geometric Brownian motion model to describe the dynamics of the underlying asset price. This model captures the essential characteristics of asset price movements, including the drift (representing the expected return) and volatility (representing the risk or uncertainty).\n",
    "The stochastic differential equation underlying geometric Brownian motion ensures that the simulated asset prices are consistent with the theoretical assumptions of continuous-time finance.\n",
    "Pricing Exotic Options:\n",
    "\n",
    "The library extends the pricing capabilities to exotic options such as lookback and Asian options. Lookback options, which depend on the maximum or minimum asset price during the option's life, provide valuable insights for investors seeking to hedge against extreme market movements.\n",
    "Asian options, which depend on the average asset price, are particularly useful in markets where the underlying asset is subject to significant price fluctuations. The library's ability to price these options enhances its applicability to a broader range of financial instruments.\n",
    "Practical Implications\n",
    "The developed pricing library has significant practical implications for financial institutions, asset managers, and risk managers. By providing a versatile and accurate tool for option pricing, the library facilitates better decision-making and risk management. The use of Monte Carlo simulation and geometric Brownian motion ensures that the pricing models are robust and reflective of real-world market dynamics.\n",
    "\n",
    "Future Enhancements\n",
    "While the current version of the library offers a solid foundation for option pricing, several enhancements could further improve its functionality:\n",
    "\n",
    "Parallel Computing: Implementing parallel computing techniques could significantly reduce the computational time required for Monte Carlo simulations, especially for large-scale simulations with high accuracy requirements.\n",
    "\n",
    "Advanced Stochastic Models: Incorporating advanced stochastic models, such as stochastic volatility models (e.g., Heston model) or jump-diffusion models, could provide more accurate pricing for options in markets with volatility clustering or sudden price jumps.\n",
    "\n",
    "Calibration and Validation: Developing methods for calibrating the model parameters to market data and validating the pricing models against observed option prices could enhance the accuracy and reliability of the library.\n",
    "\n",
    "User Interface: Creating a user-friendly interface or integrating the library with financial software platforms could make it more accessible to practitioners in the finance industry.\n",
    "\n",
    "Conclusion\n",
    "This project demonstrates the successful development of a pricing library for European plain vanilla and exotic options using Monte Carlo simulation and geometric Brownian motion. The library's flexibility, accuracy, and robustness make it a valuable tool for option pricing and risk management. By addressing the practical needs of financial professionals and offering opportunities for future enhancements, this project contributes to the advancement of quantitative finance and financial engineering."
   ]
  }
 ],
 "metadata": {
  "kernelspec": {
   "display_name": "Python 3 (ipykernel)",
   "language": "python",
   "name": "python3"
  },
  "language_info": {
   "codemirror_mode": {
    "name": "ipython",
    "version": 3
   },
   "file_extension": ".py",
   "mimetype": "text/x-python",
   "name": "python",
   "nbconvert_exporter": "python",
   "pygments_lexer": "ipython3",
   "version": "3.11.3"
  }
 },
 "nbformat": 4,
 "nbformat_minor": 5
}
