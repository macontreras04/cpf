{
  "nbformat": 4,
  "nbformat_minor": 0,
  "metadata": {
    "colab": {
      "provenance": [],
      "authorship_tag": "ABX9TyNTuTabUVudLLAD8RecXn+H",
      "include_colab_link": true
    },
    "kernelspec": {
      "name": "python3",
      "display_name": "Python 3"
    },
    "language_info": {
      "name": "python"
    }
  },
  "cells": [
    {
      "cell_type": "markdown",
      "metadata": {
        "id": "view-in-github",
        "colab_type": "text"
      },
      "source": [
        "<a href=\"https://colab.research.google.com/github/macontreras04/cpf/blob/main/HW_Calibration.ipynb\" target=\"_parent\"><img src=\"https://colab.research.google.com/assets/colab-badge.svg\" alt=\"Open In Colab\"/></a>"
      ]
    },
    {
      "cell_type": "code",
      "source": [
        "pip install QuantLib"
      ],
      "metadata": {
        "colab": {
          "base_uri": "https://localhost:8080/"
        },
        "id": "CSsIyLvryIHT",
        "outputId": "2710d0d0-f14f-4b68-e54c-8764482eb27b"
      },
      "execution_count": 2,
      "outputs": [
        {
          "output_type": "stream",
          "name": "stdout",
          "text": [
            "Collecting QuantLib\n",
            "  Downloading QuantLib-1.36-cp38-abi3-manylinux_2_17_x86_64.manylinux2014_x86_64.whl.metadata (1.1 kB)\n",
            "Downloading QuantLib-1.36-cp38-abi3-manylinux_2_17_x86_64.manylinux2014_x86_64.whl (19.6 MB)\n",
            "\u001b[2K   \u001b[90m━━━━━━━━━━━━━━━━━━━━━━━━━━━━━━━━━━━━━━━━\u001b[0m \u001b[32m19.6/19.6 MB\u001b[0m \u001b[31m63.3 MB/s\u001b[0m eta \u001b[36m0:00:00\u001b[0m\n",
            "\u001b[?25hInstalling collected packages: QuantLib\n",
            "Successfully installed QuantLib-1.36\n"
          ]
        }
      ]
    },
    {
      "cell_type": "code",
      "execution_count": 3,
      "metadata": {
        "id": "yZcyYl0Ux_BU"
      },
      "outputs": [],
      "source": [
        "from QuantLib import *"
      ]
    },
    {
      "cell_type": "code",
      "source": [
        "from pandas import DataFrame\n",
        "import numpy as np\n",
        "import matplotlib.pyplot as plt\n",
        "%matplotlib inline"
      ],
      "metadata": {
        "id": "6APX9uZMy4Hl"
      },
      "execution_count": 11,
      "outputs": []
    },
    {
      "cell_type": "code",
      "source": [
        "from collections import namedtuple\n",
        "import math"
      ],
      "metadata": {
        "id": "084nb1GiyDNX"
      },
      "execution_count": 4,
      "outputs": []
    },
    {
      "cell_type": "code",
      "source": [
        "today = Date(18, April, 2023);\n",
        "settlement= Date(19, April, 2024);\n",
        "Settings.instance().evaluationDate = today;\n",
        "term_structure = YieldTermStructureHandle(\n",
        "FlatForward(settlement,0.04875825,Actual365Fixed())\n",
        ")\n",
        "index = Euribor1Y(term_structure)"
      ],
      "metadata": {
        "id": "gdX3VGG8yDKX"
      },
      "execution_count": 5,
      "outputs": []
    },
    {
      "cell_type": "code",
      "source": [
        "CalibrationData = namedtuple(\"CalibrationData\",\n",
        "\"start, length, volatility\")\n",
        "data = [CalibrationData(1, 5, 0.1148),\n",
        "CalibrationData(2, 4, 0.1108),\n",
        "CalibrationData(3, 3, 0.1070),\n",
        "CalibrationData(4, 2, 0.1021),\n",
        "CalibrationData(5, 1, 0.1000 )]"
      ],
      "metadata": {
        "id": "BUjce7MqyDHT"
      },
      "execution_count": 6,
      "outputs": []
    },
    {
      "cell_type": "code",
      "source": [
        "def create_swaption_helpers(data, index, term_structure, engine):\n",
        "  swaptions = []\n",
        "  fixed_leg_tenor = Period(1, Years)\n",
        "  fixed_leg_daycounter = Actual360()\n",
        "  floating_leg_daycounter = Actual360()\n",
        "  for d in data:\n",
        "    vol_handle = QuoteHandle(SimpleQuote(d.volatility))\n",
        "    helper = SwaptionHelper(Period(d.start, Years),\n",
        "    Period(d.length, Years),\n",
        "    vol_handle,\n",
        "    index,\n",
        "    fixed_leg_tenor,\n",
        "    fixed_leg_daycounter,\n",
        "    floating_leg_daycounter,\n",
        "    term_structure\n",
        "    )\n",
        "    helper.setPricingEngine(engine)\n",
        "    swaptions.append(helper)\n",
        "  return swaptions"
      ],
      "metadata": {
        "id": "JkEgeJHmyDEl"
      },
      "execution_count": 7,
      "outputs": []
    },
    {
      "cell_type": "code",
      "source": [
        "def calibration_report(swaptions, data):\n",
        "  columns = [\"Model Price\", \"Market Price\", \"Implied Vol\", \"Market Vol\", \"Rel Er\\\n",
        "  ror Price\", \"Rel Error Vols\"]\n",
        "  report_data = []\n",
        "  cum_err = 0.0\n",
        "  cum_err2 = 0.0\n",
        "  for i, s in enumerate(swaptions):\n",
        "    model_price = s.modelValue()\n",
        "    market_vol = data[i].volatility\n",
        "    black_price = s.blackPrice(market_vol)\n",
        "    rel_error = model_price/black_price - 1.0\n",
        "    implied_vol = s.impliedVolatility(model_price,\n",
        "    1e-5, 50, 0.0, 0.50)\n",
        "    rel_error2 = implied_vol/market_vol-1.0\n",
        "    cum_err += rel_error*rel_error\n",
        "    cum_err2 += rel_error2*rel_error2\n",
        "    report_data.append((model_price, black_price, implied_vol,\n",
        "    market_vol, rel_error, rel_error2))\n",
        "  print (\"Cumulative Error Price: %7.5f\" % math.sqrt(cum_err))\n",
        "  print( \"Cumulative Error Vols : %7.5f\" % math.sqrt(cum_err2))\n",
        "  return DataFrame(report_data,columns= columns, index=['']*len(report_data))"
      ],
      "metadata": {
        "id": "ongKIf9byDBY"
      },
      "execution_count": 8,
      "outputs": []
    },
    {
      "cell_type": "code",
      "source": [
        "model = HullWhite(term_structure);\n",
        "engine = JamshidianSwaptionEngine(model)\n",
        "swaptions = create_swaption_helpers(data, index, term_structure, engine)\n",
        "optimization_method = LevenbergMarquardt(1.0e-8,1.0e-8,1.0e-8)\n",
        "end_criteria = EndCriteria(10000, 100, 1e-6, 1e-8, 1e-8)\n",
        "model.calibrate(swaptions, optimization_method, end_criteria)\n",
        "a, sigma = model.params()\n",
        "print (\"a = %6.5f, sigma = %6.5f\" % (a, sigma))"
      ],
      "metadata": {
        "colab": {
          "base_uri": "https://localhost:8080/"
        },
        "id": "-nyHEMM_yC-J",
        "outputId": "476f0bd3-d674-424e-c9be-f0aebf6705ad"
      },
      "execution_count": 9,
      "outputs": [
        {
          "output_type": "stream",
          "name": "stdout",
          "text": [
            "a = 0.05247, sigma = 0.00688\n"
          ]
        }
      ]
    },
    {
      "cell_type": "code",
      "source": [
        "calibration_report(swaptions, data)"
      ],
      "metadata": {
        "colab": {
          "base_uri": "https://localhost:8080/",
          "height": 241
        },
        "id": "mAQlw68gyC6z",
        "outputId": "8b4495be-97bc-4e59-8487-85cec68e8296"
      },
      "execution_count": 12,
      "outputs": [
        {
          "output_type": "stream",
          "name": "stdout",
          "text": [
            "Cumulative Error Price: 0.29531\n",
            "Cumulative Error Vols : 0.29616\n"
          ]
        },
        {
          "output_type": "execute_result",
          "data": {
            "text/plain": [
              "  Model Price  Market Price  Implied Vol  Market Vol  Rel Er  ror Price  \\\n",
              "     0.010269      0.013374     0.088110      0.1148          -0.232147   \n",
              "     0.011277      0.012314     0.101447      0.1108          -0.084190   \n",
              "     0.010099      0.010047     0.107550      0.1070           0.005121   \n",
              "     0.007585      0.006969     0.111170      0.1021           0.088392   \n",
              "     0.004128      0.003635     0.113644      0.1000           0.135600   \n",
              "\n",
              "  Rel Error Vols  \n",
              "       -0.232495  \n",
              "       -0.084417  \n",
              "        0.005141  \n",
              "        0.088834  \n",
              "        0.136438  "
            ],
            "text/html": [
              "\n",
              "  <div id=\"df-cbb6a1f5-f49a-423f-bb04-32f5c0d240e9\" class=\"colab-df-container\">\n",
              "    <div>\n",
              "<style scoped>\n",
              "    .dataframe tbody tr th:only-of-type {\n",
              "        vertical-align: middle;\n",
              "    }\n",
              "\n",
              "    .dataframe tbody tr th {\n",
              "        vertical-align: top;\n",
              "    }\n",
              "\n",
              "    .dataframe thead th {\n",
              "        text-align: right;\n",
              "    }\n",
              "</style>\n",
              "<table border=\"1\" class=\"dataframe\">\n",
              "  <thead>\n",
              "    <tr style=\"text-align: right;\">\n",
              "      <th></th>\n",
              "      <th>Model Price</th>\n",
              "      <th>Market Price</th>\n",
              "      <th>Implied Vol</th>\n",
              "      <th>Market Vol</th>\n",
              "      <th>Rel Er  ror Price</th>\n",
              "      <th>Rel Error Vols</th>\n",
              "    </tr>\n",
              "  </thead>\n",
              "  <tbody>\n",
              "    <tr>\n",
              "      <th></th>\n",
              "      <td>0.010269</td>\n",
              "      <td>0.013374</td>\n",
              "      <td>0.088110</td>\n",
              "      <td>0.1148</td>\n",
              "      <td>-0.232147</td>\n",
              "      <td>-0.232495</td>\n",
              "    </tr>\n",
              "    <tr>\n",
              "      <th></th>\n",
              "      <td>0.011277</td>\n",
              "      <td>0.012314</td>\n",
              "      <td>0.101447</td>\n",
              "      <td>0.1108</td>\n",
              "      <td>-0.084190</td>\n",
              "      <td>-0.084417</td>\n",
              "    </tr>\n",
              "    <tr>\n",
              "      <th></th>\n",
              "      <td>0.010099</td>\n",
              "      <td>0.010047</td>\n",
              "      <td>0.107550</td>\n",
              "      <td>0.1070</td>\n",
              "      <td>0.005121</td>\n",
              "      <td>0.005141</td>\n",
              "    </tr>\n",
              "    <tr>\n",
              "      <th></th>\n",
              "      <td>0.007585</td>\n",
              "      <td>0.006969</td>\n",
              "      <td>0.111170</td>\n",
              "      <td>0.1021</td>\n",
              "      <td>0.088392</td>\n",
              "      <td>0.088834</td>\n",
              "    </tr>\n",
              "    <tr>\n",
              "      <th></th>\n",
              "      <td>0.004128</td>\n",
              "      <td>0.003635</td>\n",
              "      <td>0.113644</td>\n",
              "      <td>0.1000</td>\n",
              "      <td>0.135600</td>\n",
              "      <td>0.136438</td>\n",
              "    </tr>\n",
              "  </tbody>\n",
              "</table>\n",
              "</div>\n",
              "    <div class=\"colab-df-buttons\">\n",
              "\n",
              "  <div class=\"colab-df-container\">\n",
              "    <button class=\"colab-df-convert\" onclick=\"convertToInteractive('df-cbb6a1f5-f49a-423f-bb04-32f5c0d240e9')\"\n",
              "            title=\"Convert this dataframe to an interactive table.\"\n",
              "            style=\"display:none;\">\n",
              "\n",
              "  <svg xmlns=\"http://www.w3.org/2000/svg\" height=\"24px\" viewBox=\"0 -960 960 960\">\n",
              "    <path d=\"M120-120v-720h720v720H120Zm60-500h600v-160H180v160Zm220 220h160v-160H400v160Zm0 220h160v-160H400v160ZM180-400h160v-160H180v160Zm440 0h160v-160H620v160ZM180-180h160v-160H180v160Zm440 0h160v-160H620v160Z\"/>\n",
              "  </svg>\n",
              "    </button>\n",
              "\n",
              "  <style>\n",
              "    .colab-df-container {\n",
              "      display:flex;\n",
              "      gap: 12px;\n",
              "    }\n",
              "\n",
              "    .colab-df-convert {\n",
              "      background-color: #E8F0FE;\n",
              "      border: none;\n",
              "      border-radius: 50%;\n",
              "      cursor: pointer;\n",
              "      display: none;\n",
              "      fill: #1967D2;\n",
              "      height: 32px;\n",
              "      padding: 0 0 0 0;\n",
              "      width: 32px;\n",
              "    }\n",
              "\n",
              "    .colab-df-convert:hover {\n",
              "      background-color: #E2EBFA;\n",
              "      box-shadow: 0px 1px 2px rgba(60, 64, 67, 0.3), 0px 1px 3px 1px rgba(60, 64, 67, 0.15);\n",
              "      fill: #174EA6;\n",
              "    }\n",
              "\n",
              "    .colab-df-buttons div {\n",
              "      margin-bottom: 4px;\n",
              "    }\n",
              "\n",
              "    [theme=dark] .colab-df-convert {\n",
              "      background-color: #3B4455;\n",
              "      fill: #D2E3FC;\n",
              "    }\n",
              "\n",
              "    [theme=dark] .colab-df-convert:hover {\n",
              "      background-color: #434B5C;\n",
              "      box-shadow: 0px 1px 3px 1px rgba(0, 0, 0, 0.15);\n",
              "      filter: drop-shadow(0px 1px 2px rgba(0, 0, 0, 0.3));\n",
              "      fill: #FFFFFF;\n",
              "    }\n",
              "  </style>\n",
              "\n",
              "    <script>\n",
              "      const buttonEl =\n",
              "        document.querySelector('#df-cbb6a1f5-f49a-423f-bb04-32f5c0d240e9 button.colab-df-convert');\n",
              "      buttonEl.style.display =\n",
              "        google.colab.kernel.accessAllowed ? 'block' : 'none';\n",
              "\n",
              "      async function convertToInteractive(key) {\n",
              "        const element = document.querySelector('#df-cbb6a1f5-f49a-423f-bb04-32f5c0d240e9');\n",
              "        const dataTable =\n",
              "          await google.colab.kernel.invokeFunction('convertToInteractive',\n",
              "                                                    [key], {});\n",
              "        if (!dataTable) return;\n",
              "\n",
              "        const docLinkHtml = 'Like what you see? Visit the ' +\n",
              "          '<a target=\"_blank\" href=https://colab.research.google.com/notebooks/data_table.ipynb>data table notebook</a>'\n",
              "          + ' to learn more about interactive tables.';\n",
              "        element.innerHTML = '';\n",
              "        dataTable['output_type'] = 'display_data';\n",
              "        await google.colab.output.renderOutput(dataTable, element);\n",
              "        const docLink = document.createElement('div');\n",
              "        docLink.innerHTML = docLinkHtml;\n",
              "        element.appendChild(docLink);\n",
              "      }\n",
              "    </script>\n",
              "  </div>\n",
              "\n",
              "\n",
              "<div id=\"df-445a41f8-ce57-4ece-8db0-933f330e6cb7\">\n",
              "  <button class=\"colab-df-quickchart\" onclick=\"quickchart('df-445a41f8-ce57-4ece-8db0-933f330e6cb7')\"\n",
              "            title=\"Suggest charts\"\n",
              "            style=\"display:none;\">\n",
              "\n",
              "<svg xmlns=\"http://www.w3.org/2000/svg\" height=\"24px\"viewBox=\"0 0 24 24\"\n",
              "     width=\"24px\">\n",
              "    <g>\n",
              "        <path d=\"M19 3H5c-1.1 0-2 .9-2 2v14c0 1.1.9 2 2 2h14c1.1 0 2-.9 2-2V5c0-1.1-.9-2-2-2zM9 17H7v-7h2v7zm4 0h-2V7h2v10zm4 0h-2v-4h2v4z\"/>\n",
              "    </g>\n",
              "</svg>\n",
              "  </button>\n",
              "\n",
              "<style>\n",
              "  .colab-df-quickchart {\n",
              "      --bg-color: #E8F0FE;\n",
              "      --fill-color: #1967D2;\n",
              "      --hover-bg-color: #E2EBFA;\n",
              "      --hover-fill-color: #174EA6;\n",
              "      --disabled-fill-color: #AAA;\n",
              "      --disabled-bg-color: #DDD;\n",
              "  }\n",
              "\n",
              "  [theme=dark] .colab-df-quickchart {\n",
              "      --bg-color: #3B4455;\n",
              "      --fill-color: #D2E3FC;\n",
              "      --hover-bg-color: #434B5C;\n",
              "      --hover-fill-color: #FFFFFF;\n",
              "      --disabled-bg-color: #3B4455;\n",
              "      --disabled-fill-color: #666;\n",
              "  }\n",
              "\n",
              "  .colab-df-quickchart {\n",
              "    background-color: var(--bg-color);\n",
              "    border: none;\n",
              "    border-radius: 50%;\n",
              "    cursor: pointer;\n",
              "    display: none;\n",
              "    fill: var(--fill-color);\n",
              "    height: 32px;\n",
              "    padding: 0;\n",
              "    width: 32px;\n",
              "  }\n",
              "\n",
              "  .colab-df-quickchart:hover {\n",
              "    background-color: var(--hover-bg-color);\n",
              "    box-shadow: 0 1px 2px rgba(60, 64, 67, 0.3), 0 1px 3px 1px rgba(60, 64, 67, 0.15);\n",
              "    fill: var(--button-hover-fill-color);\n",
              "  }\n",
              "\n",
              "  .colab-df-quickchart-complete:disabled,\n",
              "  .colab-df-quickchart-complete:disabled:hover {\n",
              "    background-color: var(--disabled-bg-color);\n",
              "    fill: var(--disabled-fill-color);\n",
              "    box-shadow: none;\n",
              "  }\n",
              "\n",
              "  .colab-df-spinner {\n",
              "    border: 2px solid var(--fill-color);\n",
              "    border-color: transparent;\n",
              "    border-bottom-color: var(--fill-color);\n",
              "    animation:\n",
              "      spin 1s steps(1) infinite;\n",
              "  }\n",
              "\n",
              "  @keyframes spin {\n",
              "    0% {\n",
              "      border-color: transparent;\n",
              "      border-bottom-color: var(--fill-color);\n",
              "      border-left-color: var(--fill-color);\n",
              "    }\n",
              "    20% {\n",
              "      border-color: transparent;\n",
              "      border-left-color: var(--fill-color);\n",
              "      border-top-color: var(--fill-color);\n",
              "    }\n",
              "    30% {\n",
              "      border-color: transparent;\n",
              "      border-left-color: var(--fill-color);\n",
              "      border-top-color: var(--fill-color);\n",
              "      border-right-color: var(--fill-color);\n",
              "    }\n",
              "    40% {\n",
              "      border-color: transparent;\n",
              "      border-right-color: var(--fill-color);\n",
              "      border-top-color: var(--fill-color);\n",
              "    }\n",
              "    60% {\n",
              "      border-color: transparent;\n",
              "      border-right-color: var(--fill-color);\n",
              "    }\n",
              "    80% {\n",
              "      border-color: transparent;\n",
              "      border-right-color: var(--fill-color);\n",
              "      border-bottom-color: var(--fill-color);\n",
              "    }\n",
              "    90% {\n",
              "      border-color: transparent;\n",
              "      border-bottom-color: var(--fill-color);\n",
              "    }\n",
              "  }\n",
              "</style>\n",
              "\n",
              "  <script>\n",
              "    async function quickchart(key) {\n",
              "      const quickchartButtonEl =\n",
              "        document.querySelector('#' + key + ' button');\n",
              "      quickchartButtonEl.disabled = true;  // To prevent multiple clicks.\n",
              "      quickchartButtonEl.classList.add('colab-df-spinner');\n",
              "      try {\n",
              "        const charts = await google.colab.kernel.invokeFunction(\n",
              "            'suggestCharts', [key], {});\n",
              "      } catch (error) {\n",
              "        console.error('Error during call to suggestCharts:', error);\n",
              "      }\n",
              "      quickchartButtonEl.classList.remove('colab-df-spinner');\n",
              "      quickchartButtonEl.classList.add('colab-df-quickchart-complete');\n",
              "    }\n",
              "    (() => {\n",
              "      let quickchartButtonEl =\n",
              "        document.querySelector('#df-445a41f8-ce57-4ece-8db0-933f330e6cb7 button');\n",
              "      quickchartButtonEl.style.display =\n",
              "        google.colab.kernel.accessAllowed ? 'block' : 'none';\n",
              "    })();\n",
              "  </script>\n",
              "</div>\n",
              "\n",
              "    </div>\n",
              "  </div>\n"
            ],
            "application/vnd.google.colaboratory.intrinsic+json": {
              "type": "dataframe",
              "summary": "{\n  \"name\": \"calibration_report(swaptions, data)\",\n  \"rows\": 5,\n  \"fields\": [\n    {\n      \"column\": \"Model Price\",\n      \"properties\": {\n        \"dtype\": \"number\",\n        \"std\": 0.002881074780550402,\n        \"min\": 0.004128177563523383,\n        \"max\": 0.011277194607430183,\n        \"num_unique_values\": 5,\n        \"samples\": [\n          0.011277194607430183,\n          0.004128177563523383,\n          0.010098675594640004\n        ],\n        \"semantic_type\": \"\",\n        \"description\": \"\"\n      }\n    },\n    {\n      \"column\": \"Market Price\",\n      \"properties\": {\n        \"dtype\": \"number\",\n        \"std\": 0.003992479096858068,\n        \"min\": 0.0036352388778373205,\n        \"max\": 0.013374212351860438,\n        \"num_unique_values\": 5,\n        \"samples\": [\n          0.012313895918866108,\n          0.0036352388778373205,\n          0.010047226247202334\n        ],\n        \"semantic_type\": \"\",\n        \"description\": \"\"\n      }\n    },\n    {\n      \"column\": \"Implied Vol\",\n      \"properties\": {\n        \"dtype\": \"number\",\n        \"std\": 0.010189499690763201,\n        \"min\": 0.0881095292201397,\n        \"max\": 0.1136437788605966,\n        \"num_unique_values\": 5,\n        \"samples\": [\n          0.10144657731961589,\n          0.1136437788605966,\n          0.10755003611998154\n        ],\n        \"semantic_type\": \"\",\n        \"description\": \"\"\n      }\n    },\n    {\n      \"column\": \"Market Vol\",\n      \"properties\": {\n        \"dtype\": \"number\",\n        \"std\": 0.006088349530045066,\n        \"min\": 0.1,\n        \"max\": 0.1148,\n        \"num_unique_values\": 5,\n        \"samples\": [\n          0.1108,\n          0.1,\n          0.107\n        ],\n        \"semantic_type\": \"\",\n        \"description\": \"\"\n      }\n    },\n    {\n      \"column\": \"Rel Er  ror Price\",\n      \"properties\": {\n        \"dtype\": \"number\",\n        \"std\": 0.14636021360452564,\n        \"min\": -0.23214672996529795,\n        \"max\": 0.13560008083411623,\n        \"num_unique_values\": 5,\n        \"samples\": [\n          -0.08418954636831033,\n          0.13560008083411623,\n          0.0051207513568229945\n        ],\n        \"semantic_type\": \"\",\n        \"description\": \"\"\n      }\n    },\n    {\n      \"column\": \"Rel Error Vols\",\n      \"properties\": {\n        \"dtype\": \"number\",\n        \"std\": 0.14681377096215747,\n        \"min\": -0.23249539006846942,\n        \"max\": 0.13643778860596578,\n        \"num_unique_values\": 5,\n        \"samples\": [\n          -0.08441717220563272,\n          0.13643778860596578,\n          0.005140524485808706\n        ],\n        \"semantic_type\": \"\",\n        \"description\": \"\"\n      }\n    }\n  ]\n}"
            }
          },
          "metadata": {},
          "execution_count": 12
        }
      ]
    },
    {
      "cell_type": "markdown",
      "source": [
        "# **HW from scratch**"
      ],
      "metadata": {
        "id": "cA2T3vmOzGwD"
      }
    },
    {
      "cell_type": "code",
      "source": [
        "import numpy as np\n",
        "from scipy.optimize import minimize\n",
        "import math\n",
        "\n",
        "# Flat yield curve function\n",
        "def flat_yield_curve(rate, t):\n",
        "    return np.exp(-rate * t)\n",
        "\n",
        "# Example usage: flat yield curve with 4.875825% rate\n",
        "rate = 0.04875825\n",
        "t = 1.0  # 1 year maturity\n",
        "print(flat_yield_curve(rate, t))  # Outputs the discount factor\n"
      ],
      "metadata": {
        "colab": {
          "base_uri": "https://localhost:8080/"
        },
        "id": "JQcwOx66yCxd",
        "outputId": "856f2738-b5a0-4e44-e41d-0ce17d3003bd"
      },
      "execution_count": 13,
      "outputs": [
        {
          "output_type": "stream",
          "name": "stdout",
          "text": [
            "0.9524113473130424\n"
          ]
        }
      ]
    },
    {
      "cell_type": "code",
      "source": [
        "def hull_white_zero_coupon_bond(a, sigma, rate, t, T):\n",
        "    # Implement the Hull-White model's zero-coupon bond pricing formula\n",
        "    B = (1 - np.exp(-a * (T - t))) / a\n",
        "    A = np.exp((B - (T - t)) * (rate - sigma**2 / (2 * a**2)) - (sigma**2 * B**2) / (4 * a))\n",
        "    return A * flat_yield_curve(rate, T - t)\n",
        "\n",
        "# Example usage\n",
        "a = 0.05\n",
        "sigma = 0.01\n",
        "t = 0  # Current time\n",
        "T = 1  # Maturity in 1 year\n",
        "print(hull_white_zero_coupon_bond(a, sigma, rate, t, T))"
      ],
      "metadata": {
        "colab": {
          "base_uri": "https://localhost:8080/"
        },
        "id": "PVbjYfjLzXxw",
        "outputId": "d862a924-ab3b-4d61-d1ba-50a9c338c303"
      },
      "execution_count": 14,
      "outputs": [
        {
          "output_type": "stream",
          "name": "stdout",
          "text": [
            "0.9512854671198083\n"
          ]
        }
      ]
    },
    {
      "cell_type": "code",
      "source": [
        "def black_model_swaption_price(forward_rate, strike, volatility, maturity, notional):\n",
        "    # Black model formula for swaption pricing\n",
        "    d1 = (np.log(forward_rate / strike) + 0.5 * volatility**2 * maturity) / (volatility * np.sqrt(maturity))\n",
        "    d2 = d1 - volatility * np.sqrt(maturity)\n",
        "    nd1 = 0.5 * (1 + math.erf(d1 / np.sqrt(2)))\n",
        "    nd2 = 0.5 * (1 + math.erf(d2 / np.sqrt(2)))\n",
        "    return notional * (forward_rate * nd1 - strike * nd2)\n",
        "\n",
        "# Example parameters\n",
        "forward_rate = 0.05  # Forward rate for the swap\n",
        "strike = 0.045  # Strike rate of the swaption\n",
        "volatility = 0.01  # Implied volatility\n",
        "maturity = 1.0  # Maturity in years\n",
        "notional = 1000000  # Notional value\n",
        "print(black_model_swaption_price(forward_rate, strike, volatility, maturity, notional))\n"
      ],
      "metadata": {
        "colab": {
          "base_uri": "https://localhost:8080/"
        },
        "id": "qYDeUvzXzXv8",
        "outputId": "764d50f6-f1ff-45d1-a0e7-b169dbb22c58"
      },
      "execution_count": 15,
      "outputs": [
        {
          "output_type": "stream",
          "name": "stdout",
          "text": [
            "5000.000000000005\n"
          ]
        }
      ]
    },
    {
      "cell_type": "code",
      "source": [
        "import numpy as np\n",
        "from scipy.optimize import minimize\n",
        "from scipy.stats import norm\n",
        "import math\n",
        "\n",
        "# Flat yield curve function\n",
        "def flat_yield_curve(rate, t):\n",
        "    return np.exp(-rate * t)\n",
        "\n",
        "# Hull-White zero-coupon bond pricing function using the Hull-White model formula\n",
        "def hull_white_zero_coupon_bond(a, sigma, rate, t, T):\n",
        "    B = (1 - np.exp(-a * (T - t))) / a\n",
        "    A = np.exp((B - (T - t)) * (rate - (sigma**2 / (2 * a**2))) - (sigma**2 * B**2) / (4 * a))\n",
        "    return A * flat_yield_curve(rate, T - t)\n",
        "\n",
        "# Function to calculate the forward swap rate given Hull-White model\n",
        "def forward_swap_rate(a, sigma, rate, t, T, S):\n",
        "    P0T = hull_white_zero_coupon_bond(a, sigma, rate, t, T)\n",
        "    P0S = hull_white_zero_coupon_bond(a, sigma, rate, t, S)\n",
        "    return (P0T / P0S - 1) / (S - T)\n",
        "\n",
        "# Black model for swaption pricing\n",
        "def black_model_swaption_price(forward_rate, strike, volatility, maturity, notional):\n",
        "    d1 = (np.log(forward_rate / strike) + 0.5 * volatility**2 * maturity) / (volatility * np.sqrt(maturity))\n",
        "    d2 = d1 - volatility * np.sqrt(maturity)\n",
        "    nd1 = norm.cdf(d1)\n",
        "    nd2 = norm.cdf(d2)\n",
        "    return notional * (forward_rate * nd1 - strike * nd2)\n",
        "\n",
        "# Objective function for calibration\n",
        "def calibration_objective(params, market_vols, swaption_data, rate):\n",
        "    a, sigma = params\n",
        "    model_prices = []\n",
        "    for start, length, market_vol in swaption_data:\n",
        "        T = start\n",
        "        S = start + length\n",
        "        strike = market_vol  # Using market vol as a proxy for the strike (fixed for now)\n",
        "        notional = 1.0  # Simplified notional value\n",
        "\n",
        "        # Calculate the forward rate using the Hull-White model\n",
        "        forward_rate = forward_swap_rate(a, sigma, rate, 0, T, S)\n",
        "\n",
        "        # Calculate model price using the Black model for swaptions\n",
        "        model_price = black_model_swaption_price(forward_rate, strike, sigma, T, notional)\n",
        "        model_prices.append(model_price)\n",
        "\n",
        "    # Calculate the sum of squared errors between model and market prices\n",
        "    error = np.sum((np.array(model_prices) - np.array(market_vols))**2)\n",
        "    return error\n",
        "\n",
        "# Sample market data for calibration\n",
        "swaption_data = [\n",
        "    (1, 5, 0.1148),\n",
        "    (2, 4, 0.1108),\n",
        "    (3, 3, 0.1070),\n",
        "    (4, 2, 0.1021),\n",
        "    (5, 1, 0.1000)\n",
        "]\n",
        "market_vols = [d[2] for d in swaption_data]\n",
        "\n",
        "# Initial guess for optimization\n",
        "initial_params = [0.03, 0.01]  # Initial guesses for a and sigma\n",
        "rate = 0.04875825\n",
        "\n",
        "# Bounds to ensure the parameters remain positive\n",
        "bounds = [(0.0001, None), (0.0001, None)]\n",
        "\n",
        "# Perform calibration\n",
        "result = minimize(calibration_objective, initial_params, args=(market_vols, swaption_data, rate), method='L-BFGS-B', bounds=bounds)\n",
        "a_calibrated, sigma_calibrated = result.x\n",
        "\n",
        "# Display calibrated parameters\n",
        "a_calibrated, sigma_calibrated\n",
        "\n"
      ],
      "metadata": {
        "colab": {
          "base_uri": "https://localhost:8080/"
        },
        "id": "04ssE7WWzXtf",
        "outputId": "d264ba3d-b170-4f1c-8fdf-f31fab05ad97"
      },
      "execution_count": 19,
      "outputs": [
        {
          "output_type": "execute_result",
          "data": {
            "text/plain": [
              "(0.03, 0.01)"
            ]
          },
          "metadata": {},
          "execution_count": 19
        }
      ]
    },
    {
      "cell_type": "code",
      "source": [],
      "metadata": {
        "id": "ttWjfUU8zXpp"
      },
      "execution_count": null,
      "outputs": []
    },
    {
      "cell_type": "code",
      "source": [],
      "metadata": {
        "id": "H3W0wNwYzXhg"
      },
      "execution_count": null,
      "outputs": []
    },
    {
      "cell_type": "code",
      "source": [],
      "metadata": {
        "id": "nsDdINdkzXeW"
      },
      "execution_count": null,
      "outputs": []
    },
    {
      "cell_type": "code",
      "source": [],
      "metadata": {
        "id": "cVGkrWC3zXbb"
      },
      "execution_count": null,
      "outputs": []
    },
    {
      "cell_type": "code",
      "source": [],
      "metadata": {
        "id": "RNKDWQsEzXYA"
      },
      "execution_count": null,
      "outputs": []
    },
    {
      "cell_type": "code",
      "source": [],
      "metadata": {
        "id": "6T2FPL02zXUr"
      },
      "execution_count": null,
      "outputs": []
    },
    {
      "cell_type": "code",
      "source": [],
      "metadata": {
        "id": "xbI8rsQLzW7u"
      },
      "execution_count": null,
      "outputs": []
    }
  ]
}